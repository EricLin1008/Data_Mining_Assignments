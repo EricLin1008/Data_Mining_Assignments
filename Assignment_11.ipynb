{
 "cells": [
  {
   "cell_type": "markdown",
   "metadata": {
    "id": "W723R6ycRm2P"
   },
   "source": [
    "Data Mining: Basic Concepts - Winter 2023/24\n",
    "---------------\n",
    "``` \n",
    "> University of Konstanz \n",
    "> Department of Computer and Information Science\n",
    "> Maximilian T. Fischer, Frederik Dennig, Yannick Metz, Udo Schlegel\n",
    "```\n",
    "__Organize in teams of 2 people, return the exercise on time using ILIAS__"
   ]
  },
  {
   "cell_type": "markdown",
   "metadata": {
    "id": "ugI_3hu7Rm2R"
   },
   "source": [
    "---"
   ]
  },
  {
   "cell_type": "markdown",
   "metadata": {
    "id": "O9GM6DUeRm2S"
   },
   "source": [
    "Assignment 11\n",
    "---------------\n",
    "- ___Please put your names and student IDs here___:\n",
    "    - _Name_, _Student ID_\n",
    "    - _Name_, _Student ID_"
   ]
  },
  {
   "cell_type": "markdown",
   "metadata": {
    "id": "c8ylALPFVKEJ"
   },
   "source": [
    "---"
   ]
  },
  {
   "cell_type": "markdown",
   "metadata": {},
   "source": [
    "#### Exercise 1: Linkage Based Clustering  \n",
    "\n",
    "Use `single` and `complete` link agglomerative clustering to group the data described by the following distance matrix. Explain your steps for each linkage and show the dendrogram. Do not use Python for this exercise - compute this by hand.\n",
    "\n",
    "_(Hint: you can use the ``![](imagename.png)`` to include an image in a markdown cell. You can use this to include a hand written calculation. Do not forget to also upload the image in your final submission.)_"
   ]
  },
  {
   "cell_type": "markdown",
   "metadata": {},
   "source": [
    "||A|B|C|D|\n",
    "|---|---|---|---|---|\n",
    "|A|0|3|5|4|\n",
    "|B| |0|2|6|\n",
    "|C| | |0|1|\n",
    "|D| | | |0|"
   ]
  },
  {
   "cell_type": "markdown",
   "metadata": {},
   "source": [
    "```\n",
    "> Your answer\n",
    "```"
   ]
  },
  {
   "cell_type": "markdown",
   "metadata": {
    "id": "mJZj0ZQVRm2T"
   },
   "source": [
    "---"
   ]
  },
  {
   "cell_type": "markdown",
   "metadata": {},
   "source": [
    "#### Exercise 2: DBSCAN\n",
    "\n",
    "Given the following 2-dimensional dataset. Apply the DBSCAN algorithm to cluster the data using the following input parameters. \n",
    "\n",
    "|X|Y|\n",
    "|---|---|\n",
    "|3|1|\n",
    "|3|2|\n",
    "|4|2|\n",
    "|4|3|\n",
    "|5|3|\n",
    "|6|4|\n",
    "|7|4|\n",
    "|8|5|\n",
    "|9|7|\n",
    "|1|3|\n",
    "|2|4|\n",
    "|2|5|\n",
    "|3|6|\n",
    "|4|6|\n",
    "|5|7|\n",
    "|5|8|\n",
    "|6|8|\n",
    "|7|8|\n",
    "|7|9|\n",
    "\n",
    "Do not use Python for this exercise - compute this by hand. Mark the found clusters in the *dbscan-a.png* and *dbscan-b.png* files that you will find on ILIAS, respectively. Describe briefly the individual steps you need to cluster. \n",
    "\n",
    "_(Hint: you can use the ``![](imagename.png)`` to include an image in a markdown cell. You can use this to include a hand written calculation. Do not forget to also upload the image in your final submission.)_"
   ]
  },
  {
   "cell_type": "markdown",
   "metadata": {},
   "source": [
    "##### __(a) `ε = 1.2` and `MinPts = 3`.__"
   ]
  },
  {
   "cell_type": "markdown",
   "metadata": {},
   "source": [
    "```\n",
    "> Your answer\n",
    "```"
   ]
  },
  {
   "cell_type": "markdown",
   "metadata": {},
   "source": [
    "##### __(b) `ε = 1.5` and `MinPts = 3`.__"
   ]
  },
  {
   "cell_type": "markdown",
   "metadata": {},
   "source": [
    "```\n",
    "> Your answer\n",
    "```"
   ]
  },
  {
   "cell_type": "markdown",
   "metadata": {},
   "source": [
    "---"
   ]
  },
  {
   "cell_type": "markdown",
   "metadata": {},
   "source": [
    "#### Exercise 1: The Apriori Algorithm\n",
    "\n",
    "In the following exercise, you are going to apply the Apriori Algorithm on the transactions listed in the table below. Use the parameters `min_support = 3`, and `min_confidence = 75%`.\n",
    "\n",
    "_(Hint: you can use the ``![](imagename.png)`` to include a image in a markdown cell. You can use this to include a hand written calculation. Do not forget to also upload the image in your final submission.)_"
   ]
  },
  {
   "cell_type": "markdown",
   "metadata": {},
   "source": [
    "|ID| | | | | | | |\n",
    "|---|---|---|---|---|---|---|---|\n",
    "|1|M|H|C|A| |G| |\n",
    "|2|M|H|C| | |G| |\n",
    "|3|M| | |A| |G| |\n",
    "|4|M| |C|A| | |F|\n",
    "|5|M| | |A| |G|F|\n",
    "|6|M| | |A| |G|F|\n",
    "|7|M| |C| |E| |F|\n",
    "|8|M|H| | | |G| |"
   ]
  },
  {
   "cell_type": "markdown",
   "metadata": {},
   "source": [
    "##### __(a) Use the Apriori Algorithm and determine all frequent itemsets. Describe your steps, especially the candidate sets (including their frequent itemsets and their support) after each join and prune step. Please pay attention to the pseudo code and the corresponding description of the join and pruning steps given in the lecture slides.__"
   ]
  },
  {
   "cell_type": "markdown",
   "metadata": {},
   "source": [
    "```\n",
    "> Your Answer\n",
    "```"
   ]
  },
  {
   "cell_type": "markdown",
   "metadata": {},
   "source": [
    "##### __(b) Determine the association rules from the result of the Apriori Algorithm.__"
   ]
  },
  {
   "cell_type": "markdown",
   "metadata": {},
   "source": [
    "```\n",
    "> Your Answer\n",
    "```"
   ]
  },
  {
   "cell_type": "markdown",
   "metadata": {},
   "source": [
    "##### __(c) For each association rule, describe shortly its interpretation.__"
   ]
  },
  {
   "cell_type": "markdown",
   "metadata": {},
   "source": [
    "```\n",
    "> Your Answer\n",
    "```"
   ]
  },
  {
   "cell_type": "markdown",
   "metadata": {},
   "source": [
    "---"
   ]
  }
 ],
 "metadata": {
  "colab": {
   "collapsed_sections": [],
   "name": "Assignment_10.ipynb",
   "provenance": [],
   "toc_visible": true
  },
  "kernelspec": {
   "display_name": "Python 3 (ipykernel)",
   "language": "python",
   "name": "python3"
  },
  "language_info": {
   "codemirror_mode": {
    "name": "ipython",
    "version": 3
   },
   "file_extension": ".py",
   "mimetype": "text/x-python",
   "name": "python",
   "nbconvert_exporter": "python",
   "pygments_lexer": "ipython3",
   "version": "3.11.5"
  }
 },
 "nbformat": 4,
 "nbformat_minor": 4
}
