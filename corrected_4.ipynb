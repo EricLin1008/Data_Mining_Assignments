{
 "cells": [
  {
   "cell_type": "markdown",
   "metadata": {},
   "source": [
    "Data Mining: Basic Concepts - Winter 2023/24\n",
    "---------------\n",
    "``` \n",
    "> University of Konstanz \n",
    "> Department of Computer and Information Science\n",
    "> Maximilian T. Fischer, Frederik Dennig, Yannick Metz, Udo Schlegel\n",
    "```\n",
    "__Organize in teams of 2 people, return the exercise on time using ILIAS__"
   ]
  },
  {
   "cell_type": "markdown",
   "metadata": {},
   "source": [
    "---"
   ]
  },
  {
   "cell_type": "markdown",
   "metadata": {},
   "source": [
    "Assignment 04 in Python\n",
    "---------------\n",
    "- ___Please put your names and student IDs here___:\n",
    "    - Wei-Cheng Lin, 01/1348028\n",
    "    - Kuon Ito, 01/1358810"
   ]
  },
  {
   "cell_type": "markdown",
   "metadata": {},
   "source": [
    "---"
   ]
  },
  {
   "cell_type": "markdown",
   "metadata": {},
   "source": [
    "#### Exercise 1: Pruning Decision Trees"
   ]
  },
  {
   "cell_type": "markdown",
   "metadata": {},
   "source": [
    "__We will investigate the “diabetes.csv” dataset. Read the “description.txt” to understand the individual columns. Use the already imported libraries for this exercise (Note: You can install sklearn via pip as the `scikit-learn` package).__"
   ]
  },
  {
   "cell_type": "code",
   "execution_count": 1,
   "metadata": {},
   "outputs": [],
   "source": [
    "import pandas as pd \n",
    "from sklearn.model_selection import train_test_split\n",
    "from sklearn import tree"
   ]
  },
  {
   "cell_type": "markdown",
   "metadata": {},
   "source": [
    "##### __(a) Load the dataset and use a sampling method to split the dataset into a training (80% rows) and test (20% rows) dataset. The target column is the last column.__\n",
    "_(Hint: use the `sklearn.model_selection.train_test_split` and set the parameter to `random_state = 0`)_"
   ]
  },
  {
   "cell_type": "code",
   "execution_count": 2,
   "metadata": {},
   "outputs": [
    {
     "data": {
      "text/html": [
       "<div>\n",
       "<style scoped>\n",
       "    .dataframe tbody tr th:only-of-type {\n",
       "        vertical-align: middle;\n",
       "    }\n",
       "\n",
       "    .dataframe tbody tr th {\n",
       "        vertical-align: top;\n",
       "    }\n",
       "\n",
       "    .dataframe thead th {\n",
       "        text-align: right;\n",
       "    }\n",
       "</style>\n",
       "<table border=\"1\" class=\"dataframe\">\n",
       "  <thead>\n",
       "    <tr style=\"text-align: right;\">\n",
       "      <th></th>\n",
       "      <th>Pregnancies</th>\n",
       "      <th>Glucose</th>\n",
       "      <th>BloodPressure</th>\n",
       "      <th>SkinThickness</th>\n",
       "      <th>Insulin</th>\n",
       "      <th>BMI</th>\n",
       "      <th>DiabetesPedigreeFunction</th>\n",
       "      <th>Age</th>\n",
       "      <th>Target</th>\n",
       "    </tr>\n",
       "  </thead>\n",
       "  <tbody>\n",
       "    <tr>\n",
       "      <th>0</th>\n",
       "      <td>6</td>\n",
       "      <td>148</td>\n",
       "      <td>72</td>\n",
       "      <td>35</td>\n",
       "      <td>0</td>\n",
       "      <td>33.6</td>\n",
       "      <td>0.627</td>\n",
       "      <td>50</td>\n",
       "      <td>1</td>\n",
       "    </tr>\n",
       "    <tr>\n",
       "      <th>1</th>\n",
       "      <td>1</td>\n",
       "      <td>85</td>\n",
       "      <td>66</td>\n",
       "      <td>29</td>\n",
       "      <td>0</td>\n",
       "      <td>26.6</td>\n",
       "      <td>0.351</td>\n",
       "      <td>31</td>\n",
       "      <td>0</td>\n",
       "    </tr>\n",
       "    <tr>\n",
       "      <th>2</th>\n",
       "      <td>8</td>\n",
       "      <td>183</td>\n",
       "      <td>64</td>\n",
       "      <td>0</td>\n",
       "      <td>0</td>\n",
       "      <td>23.3</td>\n",
       "      <td>0.672</td>\n",
       "      <td>32</td>\n",
       "      <td>1</td>\n",
       "    </tr>\n",
       "    <tr>\n",
       "      <th>3</th>\n",
       "      <td>1</td>\n",
       "      <td>89</td>\n",
       "      <td>66</td>\n",
       "      <td>23</td>\n",
       "      <td>94</td>\n",
       "      <td>28.1</td>\n",
       "      <td>0.167</td>\n",
       "      <td>21</td>\n",
       "      <td>0</td>\n",
       "    </tr>\n",
       "    <tr>\n",
       "      <th>4</th>\n",
       "      <td>0</td>\n",
       "      <td>137</td>\n",
       "      <td>40</td>\n",
       "      <td>35</td>\n",
       "      <td>168</td>\n",
       "      <td>43.1</td>\n",
       "      <td>2.288</td>\n",
       "      <td>33</td>\n",
       "      <td>1</td>\n",
       "    </tr>\n",
       "    <tr>\n",
       "      <th>...</th>\n",
       "      <td>...</td>\n",
       "      <td>...</td>\n",
       "      <td>...</td>\n",
       "      <td>...</td>\n",
       "      <td>...</td>\n",
       "      <td>...</td>\n",
       "      <td>...</td>\n",
       "      <td>...</td>\n",
       "      <td>...</td>\n",
       "    </tr>\n",
       "    <tr>\n",
       "      <th>763</th>\n",
       "      <td>10</td>\n",
       "      <td>101</td>\n",
       "      <td>76</td>\n",
       "      <td>48</td>\n",
       "      <td>180</td>\n",
       "      <td>32.9</td>\n",
       "      <td>0.171</td>\n",
       "      <td>63</td>\n",
       "      <td>0</td>\n",
       "    </tr>\n",
       "    <tr>\n",
       "      <th>764</th>\n",
       "      <td>2</td>\n",
       "      <td>122</td>\n",
       "      <td>70</td>\n",
       "      <td>27</td>\n",
       "      <td>0</td>\n",
       "      <td>36.8</td>\n",
       "      <td>0.340</td>\n",
       "      <td>27</td>\n",
       "      <td>0</td>\n",
       "    </tr>\n",
       "    <tr>\n",
       "      <th>765</th>\n",
       "      <td>5</td>\n",
       "      <td>121</td>\n",
       "      <td>72</td>\n",
       "      <td>23</td>\n",
       "      <td>112</td>\n",
       "      <td>26.2</td>\n",
       "      <td>0.245</td>\n",
       "      <td>30</td>\n",
       "      <td>0</td>\n",
       "    </tr>\n",
       "    <tr>\n",
       "      <th>766</th>\n",
       "      <td>1</td>\n",
       "      <td>126</td>\n",
       "      <td>60</td>\n",
       "      <td>0</td>\n",
       "      <td>0</td>\n",
       "      <td>30.1</td>\n",
       "      <td>0.349</td>\n",
       "      <td>47</td>\n",
       "      <td>1</td>\n",
       "    </tr>\n",
       "    <tr>\n",
       "      <th>767</th>\n",
       "      <td>1</td>\n",
       "      <td>93</td>\n",
       "      <td>70</td>\n",
       "      <td>31</td>\n",
       "      <td>0</td>\n",
       "      <td>30.4</td>\n",
       "      <td>0.315</td>\n",
       "      <td>23</td>\n",
       "      <td>0</td>\n",
       "    </tr>\n",
       "  </tbody>\n",
       "</table>\n",
       "<p>768 rows × 9 columns</p>\n",
       "</div>"
      ],
      "text/plain": [
       "     Pregnancies  Glucose  BloodPressure  SkinThickness  Insulin   BMI  \\\n",
       "0              6      148             72             35        0  33.6   \n",
       "1              1       85             66             29        0  26.6   \n",
       "2              8      183             64              0        0  23.3   \n",
       "3              1       89             66             23       94  28.1   \n",
       "4              0      137             40             35      168  43.1   \n",
       "..           ...      ...            ...            ...      ...   ...   \n",
       "763           10      101             76             48      180  32.9   \n",
       "764            2      122             70             27        0  36.8   \n",
       "765            5      121             72             23      112  26.2   \n",
       "766            1      126             60              0        0  30.1   \n",
       "767            1       93             70             31        0  30.4   \n",
       "\n",
       "     DiabetesPedigreeFunction  Age  Target  \n",
       "0                       0.627   50       1  \n",
       "1                       0.351   31       0  \n",
       "2                       0.672   32       1  \n",
       "3                       0.167   21       0  \n",
       "4                       2.288   33       1  \n",
       "..                        ...  ...     ...  \n",
       "763                     0.171   63       0  \n",
       "764                     0.340   27       0  \n",
       "765                     0.245   30       0  \n",
       "766                     0.349   47       1  \n",
       "767                     0.315   23       0  \n",
       "\n",
       "[768 rows x 9 columns]"
      ]
     },
     "execution_count": 2,
     "metadata": {},
     "output_type": "execute_result"
    }
   ],
   "source": [
    "# Load the dataset\n",
    "data_path = \"data/diabetes.csv\"\n",
    "column_names = [\"Pregnancies\", \"Glucose\", \"BloodPressure\", \"SkinThickness\", \"Insulin\", \"BMI\", \"DiabetesPedigreeFunction\", \"Age\", \"Target\"]\n",
    "df = pd.read_csv(data_path, header=None, names=column_names)\n",
    "\n",
    "X = df.iloc[:, :-1]\n",
    "y = df.iloc[:, -1]\n",
    "\n",
    "X_train, X_test, y_train, y_test = train_test_split(X, y, test_size=0.2, random_state=0)\n",
    "df"
   ]
  },
  {
   "cell_type": "markdown",
   "metadata": {},
   "source": [
    "##### __(b) Use the training dataset to train a decision tree. Plot the tree.__ "
   ]
  },
  {
   "cell_type": "code",
   "execution_count": 3,
   "metadata": {},
   "outputs": [
    {
     "data": {
      "text/plain": [
       "[Text(0.41390625, 0.9705882352941176, 'X[1] <= 123.5\\ngini = 0.461\\nsamples = 614\\nvalue = [393, 221]'),\n",
       " Text(0.150625, 0.9117647058823529, 'X[7] <= 28.5\\ngini = 0.301\\nsamples = 352\\nvalue = [287, 65]'),\n",
       " Text(0.055, 0.8529411764705882, 'X[5] <= 30.95\\ngini = 0.162\\nsamples = 202\\nvalue = [184, 18]'),\n",
       " Text(0.03, 0.7941176470588235, 'X[0] <= 7.0\\ngini = 0.036\\nsamples = 110\\nvalue = [108, 2]'),\n",
       " Text(0.02, 0.7352941176470589, 'X[6] <= 0.672\\ngini = 0.018\\nsamples = 109\\nvalue = [108, 1]'),\n",
       " Text(0.01, 0.6764705882352942, 'gini = 0.0\\nsamples = 99\\nvalue = [99, 0]'),\n",
       " Text(0.03, 0.6764705882352942, 'X[6] <= 0.697\\ngini = 0.18\\nsamples = 10\\nvalue = [9, 1]'),\n",
       " Text(0.02, 0.6176470588235294, 'gini = 0.0\\nsamples = 1\\nvalue = [0, 1]'),\n",
       " Text(0.04, 0.6176470588235294, 'gini = 0.0\\nsamples = 9\\nvalue = [9, 0]'),\n",
       " Text(0.04, 0.7352941176470589, 'gini = 0.0\\nsamples = 1\\nvalue = [0, 1]'),\n",
       " Text(0.08, 0.7941176470588235, 'X[2] <= 53.0\\ngini = 0.287\\nsamples = 92\\nvalue = [76, 16]'),\n",
       " Text(0.06, 0.7352941176470589, 'X[6] <= 0.508\\ngini = 0.444\\nsamples = 6\\nvalue = [2, 4]'),\n",
       " Text(0.05, 0.6764705882352942, 'gini = 0.0\\nsamples = 4\\nvalue = [0, 4]'),\n",
       " Text(0.07, 0.6764705882352942, 'gini = 0.0\\nsamples = 2\\nvalue = [2, 0]'),\n",
       " Text(0.1, 0.7352941176470589, 'X[6] <= 1.272\\ngini = 0.24\\nsamples = 86\\nvalue = [74, 12]'),\n",
       " Text(0.09, 0.6764705882352942, 'X[6] <= 0.501\\ngini = 0.225\\nsamples = 85\\nvalue = [74, 11]'),\n",
       " Text(0.07, 0.6176470588235294, 'X[5] <= 45.35\\ngini = 0.135\\nsamples = 55\\nvalue = [51, 4]'),\n",
       " Text(0.06, 0.5588235294117647, 'X[4] <= 36.5\\ngini = 0.105\\nsamples = 54\\nvalue = [51, 3]'),\n",
       " Text(0.05, 0.5, 'X[2] <= 82.5\\ngini = 0.266\\nsamples = 19\\nvalue = [16, 3]'),\n",
       " Text(0.04, 0.4411764705882353, 'X[5] <= 33.75\\ngini = 0.198\\nsamples = 18\\nvalue = [16, 2]'),\n",
       " Text(0.03, 0.38235294117647056, 'X[1] <= 102.0\\ngini = 0.48\\nsamples = 5\\nvalue = [3, 2]'),\n",
       " Text(0.02, 0.3235294117647059, 'gini = 0.0\\nsamples = 3\\nvalue = [3, 0]'),\n",
       " Text(0.04, 0.3235294117647059, 'gini = 0.0\\nsamples = 2\\nvalue = [0, 2]'),\n",
       " Text(0.05, 0.38235294117647056, 'gini = 0.0\\nsamples = 13\\nvalue = [13, 0]'),\n",
       " Text(0.06, 0.4411764705882353, 'gini = 0.0\\nsamples = 1\\nvalue = [0, 1]'),\n",
       " Text(0.07, 0.5, 'gini = 0.0\\nsamples = 35\\nvalue = [35, 0]'),\n",
       " Text(0.08, 0.5588235294117647, 'gini = 0.0\\nsamples = 1\\nvalue = [0, 1]'),\n",
       " Text(0.11, 0.6176470588235294, 'X[2] <= 69.0\\ngini = 0.358\\nsamples = 30\\nvalue = [23, 7]'),\n",
       " Text(0.1, 0.5588235294117647, 'X[1] <= 88.5\\ngini = 0.492\\nsamples = 16\\nvalue = [9, 7]'),\n",
       " Text(0.09, 0.5, 'gini = 0.0\\nsamples = 7\\nvalue = [7, 0]'),\n",
       " Text(0.11, 0.5, 'X[5] <= 32.25\\ngini = 0.346\\nsamples = 9\\nvalue = [2, 7]'),\n",
       " Text(0.1, 0.4411764705882353, 'gini = 0.0\\nsamples = 1\\nvalue = [1, 0]'),\n",
       " Text(0.12, 0.4411764705882353, 'X[0] <= 0.5\\ngini = 0.219\\nsamples = 8\\nvalue = [1, 7]'),\n",
       " Text(0.11, 0.38235294117647056, 'X[1] <= 100.5\\ngini = 0.444\\nsamples = 3\\nvalue = [1, 2]'),\n",
       " Text(0.1, 0.3235294117647059, 'gini = 0.0\\nsamples = 1\\nvalue = [1, 0]'),\n",
       " Text(0.12, 0.3235294117647059, 'gini = 0.0\\nsamples = 2\\nvalue = [0, 2]'),\n",
       " Text(0.13, 0.38235294117647056, 'gini = 0.0\\nsamples = 5\\nvalue = [0, 5]'),\n",
       " Text(0.12, 0.5588235294117647, 'gini = 0.0\\nsamples = 14\\nvalue = [14, 0]'),\n",
       " Text(0.11, 0.6764705882352942, 'gini = 0.0\\nsamples = 1\\nvalue = [0, 1]'),\n",
       " Text(0.24625, 0.8529411764705882, 'X[5] <= 26.35\\ngini = 0.43\\nsamples = 150\\nvalue = [103, 47]'),\n",
       " Text(0.23625, 0.7941176470588235, 'gini = 0.0\\nsamples = 29\\nvalue = [29, 0]'),\n",
       " Text(0.25625, 0.7941176470588235, 'X[1] <= 99.5\\ngini = 0.475\\nsamples = 121\\nvalue = [74, 47]'),\n",
       " Text(0.18, 0.7352941176470589, 'X[1] <= 28.5\\ngini = 0.337\\nsamples = 42\\nvalue = [33, 9]'),\n",
       " Text(0.17, 0.6764705882352942, 'gini = 0.0\\nsamples = 2\\nvalue = [0, 2]'),\n",
       " Text(0.19, 0.6764705882352942, 'X[7] <= 42.5\\ngini = 0.289\\nsamples = 40\\nvalue = [33, 7]'),\n",
       " Text(0.17, 0.6176470588235294, 'X[6] <= 1.16\\ngini = 0.137\\nsamples = 27\\nvalue = [25, 2]'),\n",
       " Text(0.16, 0.5588235294117647, 'X[6] <= 0.171\\ngini = 0.074\\nsamples = 26\\nvalue = [25, 1]'),\n",
       " Text(0.15, 0.5, 'X[2] <= 66.0\\ngini = 0.375\\nsamples = 4\\nvalue = [3, 1]'),\n",
       " Text(0.14, 0.4411764705882353, 'gini = 0.0\\nsamples = 1\\nvalue = [0, 1]'),\n",
       " Text(0.16, 0.4411764705882353, 'gini = 0.0\\nsamples = 3\\nvalue = [3, 0]'),\n",
       " Text(0.17, 0.5, 'gini = 0.0\\nsamples = 22\\nvalue = [22, 0]'),\n",
       " Text(0.18, 0.5588235294117647, 'gini = 0.0\\nsamples = 1\\nvalue = [0, 1]'),\n",
       " Text(0.21, 0.6176470588235294, 'X[5] <= 30.85\\ngini = 0.473\\nsamples = 13\\nvalue = [8, 5]'),\n",
       " Text(0.2, 0.5588235294117647, 'gini = 0.0\\nsamples = 2\\nvalue = [0, 2]'),\n",
       " Text(0.22, 0.5588235294117647, 'X[3] <= 21.5\\ngini = 0.397\\nsamples = 11\\nvalue = [8, 3]'),\n",
       " Text(0.21, 0.5, 'gini = 0.0\\nsamples = 5\\nvalue = [5, 0]'),\n",
       " Text(0.23, 0.5, 'X[2] <= 75.0\\ngini = 0.5\\nsamples = 6\\nvalue = [3, 3]'),\n",
       " Text(0.22, 0.4411764705882353, 'gini = 0.0\\nsamples = 3\\nvalue = [3, 0]'),\n",
       " Text(0.24, 0.4411764705882353, 'gini = 0.0\\nsamples = 3\\nvalue = [0, 3]'),\n",
       " Text(0.3325, 0.7352941176470589, 'X[5] <= 27.55\\ngini = 0.499\\nsamples = 79\\nvalue = [41, 38]'),\n",
       " Text(0.3225, 0.6764705882352942, 'gini = 0.0\\nsamples = 5\\nvalue = [0, 5]'),\n",
       " Text(0.3425, 0.6764705882352942, 'X[6] <= 0.179\\ngini = 0.494\\nsamples = 74\\nvalue = [41, 33]'),\n",
       " Text(0.3325, 0.6176470588235294, 'gini = 0.0\\nsamples = 8\\nvalue = [8, 0]'),\n",
       " Text(0.3525, 0.6176470588235294, 'X[0] <= 6.5\\ngini = 0.5\\nsamples = 66\\nvalue = [33, 33]'),\n",
       " Text(0.305, 0.5588235294117647, 'X[0] <= 1.5\\ngini = 0.483\\nsamples = 44\\nvalue = [26, 18]'),\n",
       " Text(0.27, 0.5, 'X[6] <= 0.894\\ngini = 0.475\\nsamples = 18\\nvalue = [7, 11]'),\n",
       " Text(0.26, 0.4411764705882353, 'X[6] <= 0.2\\ngini = 0.391\\nsamples = 15\\nvalue = [4, 11]'),\n",
       " Text(0.25, 0.38235294117647056, 'gini = 0.0\\nsamples = 2\\nvalue = [2, 0]'),\n",
       " Text(0.27, 0.38235294117647056, 'X[2] <= 92.0\\ngini = 0.26\\nsamples = 13\\nvalue = [2, 11]'),\n",
       " Text(0.26, 0.3235294117647059, 'X[1] <= 101.0\\ngini = 0.153\\nsamples = 12\\nvalue = [1, 11]'),\n",
       " Text(0.25, 0.2647058823529412, 'gini = 0.0\\nsamples = 1\\nvalue = [1, 0]'),\n",
       " Text(0.27, 0.2647058823529412, 'gini = 0.0\\nsamples = 11\\nvalue = [0, 11]'),\n",
       " Text(0.28, 0.3235294117647059, 'gini = 0.0\\nsamples = 1\\nvalue = [1, 0]'),\n",
       " Text(0.28, 0.4411764705882353, 'gini = 0.0\\nsamples = 3\\nvalue = [3, 0]'),\n",
       " Text(0.34, 0.5, 'X[7] <= 34.5\\ngini = 0.393\\nsamples = 26\\nvalue = [19, 7]'),\n",
       " Text(0.32, 0.4411764705882353, 'X[2] <= 63.0\\ngini = 0.133\\nsamples = 14\\nvalue = [13, 1]'),\n",
       " Text(0.31, 0.38235294117647056, 'X[6] <= 0.468\\ngini = 0.5\\nsamples = 2\\nvalue = [1, 1]'),\n",
       " Text(0.3, 0.3235294117647059, 'gini = 0.0\\nsamples = 1\\nvalue = [0, 1]'),\n",
       " Text(0.32, 0.3235294117647059, 'gini = 0.0\\nsamples = 1\\nvalue = [1, 0]'),\n",
       " Text(0.33, 0.38235294117647056, 'gini = 0.0\\nsamples = 12\\nvalue = [12, 0]'),\n",
       " Text(0.36, 0.4411764705882353, 'X[2] <= 74.5\\ngini = 0.5\\nsamples = 12\\nvalue = [6, 6]'),\n",
       " Text(0.35, 0.38235294117647056, 'gini = 0.0\\nsamples = 4\\nvalue = [0, 4]'),\n",
       " Text(0.37, 0.38235294117647056, 'X[5] <= 32.65\\ngini = 0.375\\nsamples = 8\\nvalue = [6, 2]'),\n",
       " Text(0.36, 0.3235294117647059, 'X[2] <= 85.0\\ngini = 0.444\\nsamples = 3\\nvalue = [1, 2]'),\n",
       " Text(0.35, 0.2647058823529412, 'gini = 0.0\\nsamples = 2\\nvalue = [0, 2]'),\n",
       " Text(0.37, 0.2647058823529412, 'gini = 0.0\\nsamples = 1\\nvalue = [1, 0]'),\n",
       " Text(0.38, 0.3235294117647059, 'gini = 0.0\\nsamples = 5\\nvalue = [5, 0]'),\n",
       " Text(0.4, 0.5588235294117647, 'X[7] <= 39.0\\ngini = 0.434\\nsamples = 22\\nvalue = [7, 15]'),\n",
       " Text(0.39, 0.5, 'gini = 0.0\\nsamples = 8\\nvalue = [0, 8]'),\n",
       " Text(0.41, 0.5, 'X[6] <= 0.587\\ngini = 0.5\\nsamples = 14\\nvalue = [7, 7]'),\n",
       " Text(0.4, 0.4411764705882353, 'X[5] <= 31.8\\ngini = 0.42\\nsamples = 10\\nvalue = [7, 3]'),\n",
       " Text(0.39, 0.38235294117647056, 'gini = 0.0\\nsamples = 4\\nvalue = [4, 0]'),\n",
       " Text(0.41, 0.38235294117647056, 'X[3] <= 38.0\\ngini = 0.5\\nsamples = 6\\nvalue = [3, 3]'),\n",
       " Text(0.4, 0.3235294117647059, 'X[7] <= 49.0\\ngini = 0.375\\nsamples = 4\\nvalue = [1, 3]'),\n",
       " Text(0.39, 0.2647058823529412, 'gini = 0.0\\nsamples = 3\\nvalue = [0, 3]'),\n",
       " Text(0.41, 0.2647058823529412, 'gini = 0.0\\nsamples = 1\\nvalue = [1, 0]'),\n",
       " Text(0.42, 0.3235294117647059, 'gini = 0.0\\nsamples = 2\\nvalue = [2, 0]'),\n",
       " Text(0.42, 0.4411764705882353, 'gini = 0.0\\nsamples = 4\\nvalue = [0, 4]'),\n",
       " Text(0.6771875, 0.9117647058823529, 'X[5] <= 30.05\\ngini = 0.482\\nsamples = 262\\nvalue = [106, 156]'),\n",
       " Text(0.5125, 0.8529411764705882, 'X[7] <= 26.0\\ngini = 0.438\\nsamples = 74\\nvalue = [50, 24]'),\n",
       " Text(0.5025, 0.7941176470588235, 'gini = 0.0\\nsamples = 19\\nvalue = [19, 0]'),\n",
       " Text(0.5225, 0.7941176470588235, 'X[7] <= 60.5\\ngini = 0.492\\nsamples = 55\\nvalue = [31, 24]'),\n",
       " Text(0.5125, 0.7352941176470589, 'X[1] <= 151.5\\ngini = 0.5\\nsamples = 47\\nvalue = [23, 24]'),\n",
       " Text(0.465, 0.6764705882352942, 'X[1] <= 125.5\\ngini = 0.469\\nsamples = 32\\nvalue = [20, 12]'),\n",
       " Text(0.43, 0.6176470588235294, 'X[3] <= 27.0\\ngini = 0.375\\nsamples = 8\\nvalue = [2, 6]'),\n",
       " Text(0.42, 0.5588235294117647, 'gini = 0.0\\nsamples = 5\\nvalue = [0, 5]'),\n",
       " Text(0.44, 0.5588235294117647, 'X[4] <= 60.0\\ngini = 0.444\\nsamples = 3\\nvalue = [2, 1]'),\n",
       " Text(0.43, 0.5, 'gini = 0.0\\nsamples = 1\\nvalue = [0, 1]'),\n",
       " Text(0.45, 0.5, 'gini = 0.0\\nsamples = 2\\nvalue = [2, 0]'),\n",
       " Text(0.5, 0.6176470588235294, 'X[2] <= 73.0\\ngini = 0.375\\nsamples = 24\\nvalue = [18, 6]'),\n",
       " Text(0.48, 0.5588235294117647, 'X[2] <= 64.5\\ngini = 0.5\\nsamples = 8\\nvalue = [4, 4]'),\n",
       " Text(0.47, 0.5, 'X[2] <= 28.0\\ngini = 0.32\\nsamples = 5\\nvalue = [4, 1]'),\n",
       " Text(0.46, 0.4411764705882353, 'gini = 0.0\\nsamples = 1\\nvalue = [0, 1]'),\n",
       " Text(0.48, 0.4411764705882353, 'gini = 0.0\\nsamples = 4\\nvalue = [4, 0]'),\n",
       " Text(0.49, 0.5, 'gini = 0.0\\nsamples = 3\\nvalue = [0, 3]'),\n",
       " Text(0.52, 0.5588235294117647, 'X[5] <= 28.0\\ngini = 0.219\\nsamples = 16\\nvalue = [14, 2]'),\n",
       " Text(0.51, 0.5, 'gini = 0.0\\nsamples = 9\\nvalue = [9, 0]'),\n",
       " Text(0.53, 0.5, 'X[5] <= 29.55\\ngini = 0.408\\nsamples = 7\\nvalue = [5, 2]'),\n",
       " Text(0.52, 0.4411764705882353, 'X[4] <= 89.5\\ngini = 0.444\\nsamples = 3\\nvalue = [1, 2]'),\n",
       " Text(0.51, 0.38235294117647056, 'gini = 0.0\\nsamples = 2\\nvalue = [0, 2]'),\n",
       " Text(0.53, 0.38235294117647056, 'gini = 0.0\\nsamples = 1\\nvalue = [1, 0]'),\n",
       " Text(0.54, 0.4411764705882353, 'gini = 0.0\\nsamples = 4\\nvalue = [4, 0]'),\n",
       " Text(0.56, 0.6764705882352942, 'X[5] <= 27.1\\ngini = 0.32\\nsamples = 15\\nvalue = [3, 12]'),\n",
       " Text(0.55, 0.6176470588235294, 'gini = 0.0\\nsamples = 8\\nvalue = [0, 8]'),\n",
       " Text(0.57, 0.6176470588235294, 'X[5] <= 29.1\\ngini = 0.49\\nsamples = 7\\nvalue = [3, 4]'),\n",
       " Text(0.56, 0.5588235294117647, 'X[7] <= 36.5\\ngini = 0.375\\nsamples = 4\\nvalue = [3, 1]'),\n",
       " Text(0.55, 0.5, 'gini = 0.0\\nsamples = 1\\nvalue = [0, 1]'),\n",
       " Text(0.57, 0.5, 'gini = 0.0\\nsamples = 3\\nvalue = [3, 0]'),\n",
       " Text(0.58, 0.5588235294117647, 'gini = 0.0\\nsamples = 3\\nvalue = [0, 3]'),\n",
       " Text(0.5325, 0.7352941176470589, 'gini = 0.0\\nsamples = 8\\nvalue = [8, 0]'),\n",
       " Text(0.841875, 0.8529411764705882, 'X[1] <= 157.5\\ngini = 0.418\\nsamples = 188\\nvalue = [56, 132]'),\n",
       " Text(0.72875, 0.7941176470588235, 'X[7] <= 28.5\\ngini = 0.482\\nsamples = 116\\nvalue = [47, 69]'),\n",
       " Text(0.65, 0.7352941176470589, 'X[2] <= 73.0\\ngini = 0.49\\nsamples = 42\\nvalue = [24, 18]'),\n",
       " Text(0.61, 0.6764705882352942, 'X[6] <= 0.186\\ngini = 0.463\\nsamples = 22\\nvalue = [8, 14]'),\n",
       " Text(0.6, 0.6176470588235294, 'gini = 0.0\\nsamples = 3\\nvalue = [3, 0]'),\n",
       " Text(0.62, 0.6176470588235294, 'X[1] <= 147.0\\ngini = 0.388\\nsamples = 19\\nvalue = [5, 14]'),\n",
       " Text(0.6, 0.5588235294117647, 'X[4] <= 365.0\\ngini = 0.231\\nsamples = 15\\nvalue = [2, 13]'),\n",
       " Text(0.59, 0.5, 'X[0] <= 3.5\\ngini = 0.133\\nsamples = 14\\nvalue = [1, 13]'),\n",
       " Text(0.58, 0.4411764705882353, 'gini = 0.0\\nsamples = 11\\nvalue = [0, 11]'),\n",
       " Text(0.6, 0.4411764705882353, 'X[7] <= 23.5\\ngini = 0.444\\nsamples = 3\\nvalue = [1, 2]'),\n",
       " Text(0.59, 0.38235294117647056, 'gini = 0.0\\nsamples = 2\\nvalue = [0, 2]'),\n",
       " Text(0.61, 0.38235294117647056, 'gini = 0.0\\nsamples = 1\\nvalue = [1, 0]'),\n",
       " Text(0.61, 0.5, 'gini = 0.0\\nsamples = 1\\nvalue = [1, 0]'),\n",
       " Text(0.64, 0.5588235294117647, 'X[0] <= 2.5\\ngini = 0.375\\nsamples = 4\\nvalue = [3, 1]'),\n",
       " Text(0.63, 0.5, 'gini = 0.0\\nsamples = 1\\nvalue = [0, 1]'),\n",
       " Text(0.65, 0.5, 'gini = 0.0\\nsamples = 3\\nvalue = [3, 0]'),\n",
       " Text(0.69, 0.6764705882352942, 'X[2] <= 89.0\\ngini = 0.32\\nsamples = 20\\nvalue = [16, 4]'),\n",
       " Text(0.67, 0.6176470588235294, 'X[0] <= 4.5\\ngini = 0.117\\nsamples = 16\\nvalue = [15, 1]'),\n",
       " Text(0.66, 0.5588235294117647, 'gini = 0.0\\nsamples = 14\\nvalue = [14, 0]'),\n",
       " Text(0.68, 0.5588235294117647, 'X[3] <= 38.0\\ngini = 0.5\\nsamples = 2\\nvalue = [1, 1]'),\n",
       " Text(0.67, 0.5, 'gini = 0.0\\nsamples = 1\\nvalue = [0, 1]'),\n",
       " Text(0.69, 0.5, 'gini = 0.0\\nsamples = 1\\nvalue = [1, 0]'),\n",
       " Text(0.71, 0.6176470588235294, 'X[5] <= 41.35\\ngini = 0.375\\nsamples = 4\\nvalue = [1, 3]'),\n",
       " Text(0.7, 0.5588235294117647, 'gini = 0.0\\nsamples = 1\\nvalue = [1, 0]'),\n",
       " Text(0.72, 0.5588235294117647, 'gini = 0.0\\nsamples = 3\\nvalue = [0, 3]'),\n",
       " Text(0.8075, 0.7352941176470589, 'X[6] <= 0.429\\ngini = 0.428\\nsamples = 74\\nvalue = [23, 51]'),\n",
       " Text(0.76, 0.6764705882352942, 'X[5] <= 45.55\\ngini = 0.499\\nsamples = 38\\nvalue = [18, 20]'),\n",
       " Text(0.75, 0.6176470588235294, 'X[0] <= 1.5\\ngini = 0.496\\nsamples = 33\\nvalue = [18, 15]'),\n",
       " Text(0.74, 0.5588235294117647, 'gini = 0.0\\nsamples = 3\\nvalue = [0, 3]'),\n",
       " Text(0.76, 0.5588235294117647, 'X[5] <= 37.25\\ngini = 0.48\\nsamples = 30\\nvalue = [18, 12]'),\n",
       " Text(0.74, 0.5, 'X[5] <= 36.25\\ngini = 0.499\\nsamples = 21\\nvalue = [10, 11]'),\n",
       " Text(0.73, 0.4411764705882353, 'X[0] <= 8.5\\ngini = 0.499\\nsamples = 19\\nvalue = [10, 9]'),\n",
       " Text(0.71, 0.38235294117647056, 'X[6] <= 0.266\\ngini = 0.49\\nsamples = 14\\nvalue = [6, 8]'),\n",
       " Text(0.7, 0.3235294117647059, 'X[4] <= 273.0\\ngini = 0.496\\nsamples = 11\\nvalue = [6, 5]'),\n",
       " Text(0.69, 0.2647058823529412, 'X[1] <= 124.5\\ngini = 0.444\\nsamples = 9\\nvalue = [6, 3]'),\n",
       " Text(0.68, 0.20588235294117646, 'gini = 0.0\\nsamples = 1\\nvalue = [0, 1]'),\n",
       " Text(0.7, 0.20588235294117646, 'X[7] <= 67.5\\ngini = 0.375\\nsamples = 8\\nvalue = [6, 2]'),\n",
       " Text(0.69, 0.14705882352941177, 'X[6] <= 0.132\\ngini = 0.245\\nsamples = 7\\nvalue = [6, 1]'),\n",
       " Text(0.68, 0.08823529411764706, 'X[3] <= 10.0\\ngini = 0.5\\nsamples = 2\\nvalue = [1, 1]'),\n",
       " Text(0.67, 0.029411764705882353, 'gini = 0.0\\nsamples = 1\\nvalue = [0, 1]'),\n",
       " Text(0.69, 0.029411764705882353, 'gini = 0.0\\nsamples = 1\\nvalue = [1, 0]'),\n",
       " Text(0.7, 0.08823529411764706, 'gini = 0.0\\nsamples = 5\\nvalue = [5, 0]'),\n",
       " Text(0.71, 0.14705882352941177, 'gini = 0.0\\nsamples = 1\\nvalue = [0, 1]'),\n",
       " Text(0.71, 0.2647058823529412, 'gini = 0.0\\nsamples = 2\\nvalue = [0, 2]'),\n",
       " Text(0.72, 0.3235294117647059, 'gini = 0.0\\nsamples = 3\\nvalue = [0, 3]'),\n",
       " Text(0.75, 0.38235294117647056, 'X[7] <= 40.0\\ngini = 0.32\\nsamples = 5\\nvalue = [4, 1]'),\n",
       " Text(0.74, 0.3235294117647059, 'gini = 0.0\\nsamples = 3\\nvalue = [3, 0]'),\n",
       " Text(0.76, 0.3235294117647059, 'X[5] <= 31.0\\ngini = 0.5\\nsamples = 2\\nvalue = [1, 1]'),\n",
       " Text(0.75, 0.2647058823529412, 'gini = 0.0\\nsamples = 1\\nvalue = [1, 0]'),\n",
       " Text(0.77, 0.2647058823529412, 'gini = 0.0\\nsamples = 1\\nvalue = [0, 1]'),\n",
       " Text(0.75, 0.4411764705882353, 'gini = 0.0\\nsamples = 2\\nvalue = [0, 2]'),\n",
       " Text(0.78, 0.5, 'X[1] <= 146.5\\ngini = 0.198\\nsamples = 9\\nvalue = [8, 1]'),\n",
       " Text(0.77, 0.4411764705882353, 'gini = 0.0\\nsamples = 7\\nvalue = [7, 0]'),\n",
       " Text(0.79, 0.4411764705882353, 'X[1] <= 152.0\\ngini = 0.5\\nsamples = 2\\nvalue = [1, 1]'),\n",
       " Text(0.78, 0.38235294117647056, 'gini = 0.0\\nsamples = 1\\nvalue = [0, 1]'),\n",
       " Text(0.8, 0.38235294117647056, 'gini = 0.0\\nsamples = 1\\nvalue = [1, 0]'),\n",
       " Text(0.77, 0.6176470588235294, 'gini = 0.0\\nsamples = 5\\nvalue = [0, 5]'),\n",
       " Text(0.855, 0.6764705882352942, 'X[4] <= 333.5\\ngini = 0.239\\nsamples = 36\\nvalue = [5, 31]'),\n",
       " Text(0.83, 0.6176470588235294, 'X[0] <= 0.5\\ngini = 0.165\\nsamples = 33\\nvalue = [3, 30]'),\n",
       " Text(0.81, 0.5588235294117647, 'X[2] <= 60.0\\ngini = 0.48\\nsamples = 5\\nvalue = [2, 3]'),\n",
       " Text(0.8, 0.5, 'gini = 0.0\\nsamples = 2\\nvalue = [0, 2]'),\n",
       " Text(0.82, 0.5, 'X[2] <= 85.0\\ngini = 0.444\\nsamples = 3\\nvalue = [2, 1]'),\n",
       " Text(0.81, 0.4411764705882353, 'gini = 0.0\\nsamples = 2\\nvalue = [2, 0]'),\n",
       " Text(0.83, 0.4411764705882353, 'gini = 0.0\\nsamples = 1\\nvalue = [0, 1]'),\n",
       " Text(0.85, 0.5588235294117647, 'X[5] <= 40.05\\ngini = 0.069\\nsamples = 28\\nvalue = [1, 27]'),\n",
       " Text(0.84, 0.5, 'gini = 0.0\\nsamples = 22\\nvalue = [0, 22]'),\n",
       " Text(0.86, 0.5, 'X[5] <= 40.7\\ngini = 0.278\\nsamples = 6\\nvalue = [1, 5]'),\n",
       " Text(0.85, 0.4411764705882353, 'gini = 0.0\\nsamples = 1\\nvalue = [1, 0]'),\n",
       " Text(0.87, 0.4411764705882353, 'gini = 0.0\\nsamples = 5\\nvalue = [0, 5]'),\n",
       " Text(0.88, 0.6176470588235294, 'X[6] <= 0.581\\ngini = 0.444\\nsamples = 3\\nvalue = [2, 1]'),\n",
       " Text(0.87, 0.5588235294117647, 'gini = 0.0\\nsamples = 1\\nvalue = [0, 1]'),\n",
       " Text(0.89, 0.5588235294117647, 'gini = 0.0\\nsamples = 2\\nvalue = [2, 0]'),\n",
       " Text(0.955, 0.7941176470588235, 'X[4] <= 595.0\\ngini = 0.219\\nsamples = 72\\nvalue = [9, 63]'),\n",
       " Text(0.93, 0.7352941176470589, 'X[6] <= 0.307\\ngini = 0.182\\nsamples = 69\\nvalue = [7, 62]'),\n",
       " Text(0.91, 0.6764705882352942, 'X[5] <= 31.4\\ngini = 0.401\\nsamples = 18\\nvalue = [5, 13]'),\n",
       " Text(0.9, 0.6176470588235294, 'gini = 0.0\\nsamples = 2\\nvalue = [2, 0]'),\n",
       " Text(0.92, 0.6176470588235294, 'X[1] <= 179.5\\ngini = 0.305\\nsamples = 16\\nvalue = [3, 13]'),\n",
       " Text(0.91, 0.5588235294117647, 'X[1] <= 177.0\\ngini = 0.42\\nsamples = 10\\nvalue = [3, 7]'),\n",
       " Text(0.9, 0.5, 'X[3] <= 38.0\\ngini = 0.219\\nsamples = 8\\nvalue = [1, 7]'),\n",
       " Text(0.89, 0.4411764705882353, 'gini = 0.0\\nsamples = 7\\nvalue = [0, 7]'),\n",
       " Text(0.91, 0.4411764705882353, 'gini = 0.0\\nsamples = 1\\nvalue = [1, 0]'),\n",
       " Text(0.92, 0.5, 'gini = 0.0\\nsamples = 2\\nvalue = [2, 0]'),\n",
       " Text(0.93, 0.5588235294117647, 'gini = 0.0\\nsamples = 6\\nvalue = [0, 6]'),\n",
       " Text(0.95, 0.6764705882352942, 'X[7] <= 48.0\\ngini = 0.075\\nsamples = 51\\nvalue = [2, 49]'),\n",
       " Text(0.94, 0.6176470588235294, 'gini = 0.0\\nsamples = 42\\nvalue = [0, 42]'),\n",
       " Text(0.96, 0.6176470588235294, 'X[6] <= 1.032\\ngini = 0.346\\nsamples = 9\\nvalue = [2, 7]'),\n",
       " Text(0.95, 0.5588235294117647, 'X[7] <= 50.5\\ngini = 0.219\\nsamples = 8\\nvalue = [1, 7]'),\n",
       " Text(0.94, 0.5, 'gini = 0.0\\nsamples = 1\\nvalue = [1, 0]'),\n",
       " Text(0.96, 0.5, 'gini = 0.0\\nsamples = 7\\nvalue = [0, 7]'),\n",
       " Text(0.97, 0.5588235294117647, 'gini = 0.0\\nsamples = 1\\nvalue = [1, 0]'),\n",
       " Text(0.98, 0.7352941176470589, 'X[3] <= 28.0\\ngini = 0.444\\nsamples = 3\\nvalue = [2, 1]'),\n",
       " Text(0.97, 0.6764705882352942, 'gini = 0.0\\nsamples = 1\\nvalue = [0, 1]'),\n",
       " Text(0.99, 0.6764705882352942, 'gini = 0.0\\nsamples = 2\\nvalue = [2, 0]')]"
      ]
     },
     "execution_count": 3,
     "metadata": {},
     "output_type": "execute_result"
    },
    {
     "data": {
      "image/png": "[encoded data removed]",
      "text/plain": [
       "<Figure size 640x480 with 1 Axes>"
      ]
     },
     "metadata": {},
     "output_type": "display_data"
    }
   ],
   "source": [
    "dt = tree.DecisionTreeClassifier(random_state=0)\n",
    "dt.fit(X_train, y_train)\n",
    "\n",
    "tree.plot_tree(dt)"
   ]
  },
  {
   "cell_type": "markdown",
   "metadata": {},
   "source": [
    "##### __(c)\tMeasure the accuracy of the decision tree on the training and test dataset. The accuracy is one metric for evaluating classification models. `Accuracy = (number of correct predictions) / (total number of predictions)`.__\n",
    "_(Hint: use the `DecisionTreeClassifier.score` method)_"
   ]
  },
  {
   "cell_type": "code",
   "execution_count": 4,
   "metadata": {},
   "outputs": [
    {
     "name": "stdout",
     "output_type": "stream",
     "text": [
      "Training Accuracy: 1.0\n",
      "Test Accuracy: 0.7662337662337663\n"
     ]
    }
   ],
   "source": [
    "train_accuracy = dt.score(X_train, y_train)\n",
    "print(\"Training Accuracy:\", train_accuracy)\n",
    "\n",
    "test_accuracy = dt.score(X_test, y_test)\n",
    "print(\"Test Accuracy:\", test_accuracy)\n"
   ]
  },
  {
   "cell_type": "markdown",
   "metadata": {},
   "source": [
    "##### __(d) Use prepruning and train a new decision tree. Use the `max_depth=7` parameter for the `DecisionTreeClassifier`. Plot the pruned decision tree.__"
   ]
  },
  {
   "cell_type": "code",
   "execution_count": 5,
   "metadata": {},
   "outputs": [
    {
     "data": {
      "text/plain": [
       "[Text(0.3861301369863014, 0.9375, 'X[1] <= 123.5\\ngini = 0.461\\nsamples = 614\\nvalue = [393, 221]'),\n",
       " Text(0.15753424657534246, 0.8125, 'X[7] <= 28.5\\ngini = 0.301\\nsamples = 352\\nvalue = [287, 65]'),\n",
       " Text(0.07534246575342465, 0.6875, 'X[5] <= 30.95\\ngini = 0.162\\nsamples = 202\\nvalue = [184, 18]'),\n",
       " Text(0.0410958904109589, 0.5625, 'X[0] <= 7.0\\ngini = 0.036\\nsamples = 110\\nvalue = [108, 2]'),\n",
       " Text(0.0273972602739726, 0.4375, 'X[6] <= 0.672\\ngini = 0.018\\nsamples = 109\\nvalue = [108, 1]'),\n",
       " Text(0.0136986301369863, 0.3125, 'gini = 0.0\\nsamples = 99\\nvalue = [99, 0]'),\n",
       " Text(0.0410958904109589, 0.3125, 'X[6] <= 0.697\\ngini = 0.18\\nsamples = 10\\nvalue = [9, 1]'),\n",
       " Text(0.0273972602739726, 0.1875, 'gini = 0.0\\nsamples = 1\\nvalue = [0, 1]'),\n",
       " Text(0.0547945205479452, 0.1875, 'gini = 0.0\\nsamples = 9\\nvalue = [9, 0]'),\n",
       " Text(0.0547945205479452, 0.4375, 'gini = 0.0\\nsamples = 1\\nvalue = [0, 1]'),\n",
       " Text(0.1095890410958904, 0.5625, 'X[2] <= 53.0\\ngini = 0.287\\nsamples = 92\\nvalue = [76, 16]'),\n",
       " Text(0.0821917808219178, 0.4375, 'X[6] <= 0.508\\ngini = 0.444\\nsamples = 6\\nvalue = [2, 4]'),\n",
       " Text(0.0684931506849315, 0.3125, 'gini = 0.0\\nsamples = 4\\nvalue = [0, 4]'),\n",
       " Text(0.0958904109589041, 0.3125, 'gini = 0.0\\nsamples = 2\\nvalue = [2, 0]'),\n",
       " Text(0.136986301369863, 0.4375, 'X[6] <= 1.272\\ngini = 0.24\\nsamples = 86\\nvalue = [74, 12]'),\n",
       " Text(0.1232876712328767, 0.3125, 'X[6] <= 0.501\\ngini = 0.225\\nsamples = 85\\nvalue = [74, 11]'),\n",
       " Text(0.0958904109589041, 0.1875, 'X[5] <= 45.35\\ngini = 0.135\\nsamples = 55\\nvalue = [51, 4]'),\n",
       " Text(0.0821917808219178, 0.0625, 'gini = 0.105\\nsamples = 54\\nvalue = [51, 3]'),\n",
       " Text(0.1095890410958904, 0.0625, 'gini = 0.0\\nsamples = 1\\nvalue = [0, 1]'),\n",
       " Text(0.1506849315068493, 0.1875, 'X[2] <= 69.0\\ngini = 0.358\\nsamples = 30\\nvalue = [23, 7]'),\n",
       " Text(0.136986301369863, 0.0625, 'gini = 0.492\\nsamples = 16\\nvalue = [9, 7]'),\n",
       " Text(0.1643835616438356, 0.0625, 'gini = 0.0\\nsamples = 14\\nvalue = [14, 0]'),\n",
       " Text(0.1506849315068493, 0.3125, 'gini = 0.0\\nsamples = 1\\nvalue = [0, 1]'),\n",
       " Text(0.23972602739726026, 0.6875, 'X[5] <= 26.35\\ngini = 0.43\\nsamples = 150\\nvalue = [103, 47]'),\n",
       " Text(0.22602739726027396, 0.5625, 'gini = 0.0\\nsamples = 29\\nvalue = [29, 0]'),\n",
       " Text(0.2534246575342466, 0.5625, 'X[1] <= 99.5\\ngini = 0.475\\nsamples = 121\\nvalue = [74, 47]'),\n",
       " Text(0.2191780821917808, 0.4375, 'X[1] <= 28.5\\ngini = 0.337\\nsamples = 42\\nvalue = [33, 9]'),\n",
       " Text(0.2054794520547945, 0.3125, 'gini = 0.0\\nsamples = 2\\nvalue = [0, 2]'),\n",
       " Text(0.2328767123287671, 0.3125, 'X[7] <= 42.5\\ngini = 0.289\\nsamples = 40\\nvalue = [33, 7]'),\n",
       " Text(0.2054794520547945, 0.1875, 'X[6] <= 1.16\\ngini = 0.137\\nsamples = 27\\nvalue = [25, 2]'),\n",
       " Text(0.1917808219178082, 0.0625, 'gini = 0.074\\nsamples = 26\\nvalue = [25, 1]'),\n",
       " Text(0.2191780821917808, 0.0625, 'gini = 0.0\\nsamples = 1\\nvalue = [0, 1]'),\n",
       " Text(0.2602739726027397, 0.1875, 'X[5] <= 30.85\\ngini = 0.473\\nsamples = 13\\nvalue = [8, 5]'),\n",
       " Text(0.2465753424657534, 0.0625, 'gini = 0.0\\nsamples = 2\\nvalue = [0, 2]'),\n",
       " Text(0.273972602739726, 0.0625, 'gini = 0.397\\nsamples = 11\\nvalue = [8, 3]'),\n",
       " Text(0.2876712328767123, 0.4375, 'X[5] <= 27.55\\ngini = 0.499\\nsamples = 79\\nvalue = [41, 38]'),\n",
       " Text(0.273972602739726, 0.3125, 'gini = 0.0\\nsamples = 5\\nvalue = [0, 5]'),\n",
       " Text(0.3013698630136986, 0.3125, 'X[6] <= 0.179\\ngini = 0.494\\nsamples = 74\\nvalue = [41, 33]'),\n",
       " Text(0.2876712328767123, 0.1875, 'gini = 0.0\\nsamples = 8\\nvalue = [8, 0]'),\n",
       " Text(0.3150684931506849, 0.1875, 'X[0] <= 6.5\\ngini = 0.5\\nsamples = 66\\nvalue = [33, 33]'),\n",
       " Text(0.3013698630136986, 0.0625, 'gini = 0.483\\nsamples = 44\\nvalue = [26, 18]'),\n",
       " Text(0.3287671232876712, 0.0625, 'gini = 0.434\\nsamples = 22\\nvalue = [7, 15]'),\n",
       " Text(0.6147260273972602, 0.8125, 'X[5] <= 30.05\\ngini = 0.482\\nsamples = 262\\nvalue = [106, 156]'),\n",
       " Text(0.4315068493150685, 0.6875, 'X[7] <= 26.0\\ngini = 0.438\\nsamples = 74\\nvalue = [50, 24]'),\n",
       " Text(0.4178082191780822, 0.5625, 'gini = 0.0\\nsamples = 19\\nvalue = [19, 0]'),\n",
       " Text(0.4452054794520548, 0.5625, 'X[7] <= 60.5\\ngini = 0.492\\nsamples = 55\\nvalue = [31, 24]'),\n",
       " Text(0.4315068493150685, 0.4375, 'X[1] <= 151.5\\ngini = 0.5\\nsamples = 47\\nvalue = [23, 24]'),\n",
       " Text(0.3972602739726027, 0.3125, 'X[1] <= 125.5\\ngini = 0.469\\nsamples = 32\\nvalue = [20, 12]'),\n",
       " Text(0.3698630136986301, 0.1875, 'X[3] <= 27.0\\ngini = 0.375\\nsamples = 8\\nvalue = [2, 6]'),\n",
       " Text(0.3561643835616438, 0.0625, 'gini = 0.0\\nsamples = 5\\nvalue = [0, 5]'),\n",
       " Text(0.3835616438356164, 0.0625, 'gini = 0.444\\nsamples = 3\\nvalue = [2, 1]'),\n",
       " Text(0.4246575342465753, 0.1875, 'X[2] <= 73.0\\ngini = 0.375\\nsamples = 24\\nvalue = [18, 6]'),\n",
       " Text(0.410958904109589, 0.0625, 'gini = 0.5\\nsamples = 8\\nvalue = [4, 4]'),\n",
       " Text(0.4383561643835616, 0.0625, 'gini = 0.219\\nsamples = 16\\nvalue = [14, 2]'),\n",
       " Text(0.4657534246575342, 0.3125, 'X[5] <= 27.1\\ngini = 0.32\\nsamples = 15\\nvalue = [3, 12]'),\n",
       " Text(0.4520547945205479, 0.1875, 'gini = 0.0\\nsamples = 8\\nvalue = [0, 8]'),\n",
       " Text(0.4794520547945205, 0.1875, 'X[7] <= 36.5\\ngini = 0.49\\nsamples = 7\\nvalue = [3, 4]'),\n",
       " Text(0.4657534246575342, 0.0625, 'gini = 0.0\\nsamples = 3\\nvalue = [0, 3]'),\n",
       " Text(0.4931506849315068, 0.0625, 'gini = 0.375\\nsamples = 4\\nvalue = [3, 1]'),\n",
       " Text(0.4589041095890411, 0.4375, 'gini = 0.0\\nsamples = 8\\nvalue = [8, 0]'),\n",
       " Text(0.797945205479452, 0.6875, 'X[1] <= 157.5\\ngini = 0.418\\nsamples = 188\\nvalue = [56, 132]'),\n",
       " Text(0.6575342465753424, 0.5625, 'X[7] <= 28.5\\ngini = 0.482\\nsamples = 116\\nvalue = [47, 69]'),\n",
       " Text(0.5684931506849316, 0.4375, 'X[2] <= 73.0\\ngini = 0.49\\nsamples = 42\\nvalue = [24, 18]'),\n",
       " Text(0.5205479452054794, 0.3125, 'X[6] <= 0.186\\ngini = 0.463\\nsamples = 22\\nvalue = [8, 14]'),\n",
       " Text(0.5068493150684932, 0.1875, 'gini = 0.0\\nsamples = 3\\nvalue = [3, 0]'),\n",
       " Text(0.5342465753424658, 0.1875, 'X[1] <= 147.0\\ngini = 0.388\\nsamples = 19\\nvalue = [5, 14]'),\n",
       " Text(0.5205479452054794, 0.0625, 'gini = 0.231\\nsamples = 15\\nvalue = [2, 13]'),\n",
       " Text(0.547945205479452, 0.0625, 'gini = 0.375\\nsamples = 4\\nvalue = [3, 1]'),\n",
       " Text(0.6164383561643836, 0.3125, 'X[2] <= 89.0\\ngini = 0.32\\nsamples = 20\\nvalue = [16, 4]'),\n",
       " Text(0.589041095890411, 0.1875, 'X[0] <= 4.5\\ngini = 0.117\\nsamples = 16\\nvalue = [15, 1]'),\n",
       " Text(0.5753424657534246, 0.0625, 'gini = 0.0\\nsamples = 14\\nvalue = [14, 0]'),\n",
       " Text(0.6027397260273972, 0.0625, 'gini = 0.5\\nsamples = 2\\nvalue = [1, 1]'),\n",
       " Text(0.6438356164383562, 0.1875, 'X[6] <= 0.302\\ngini = 0.375\\nsamples = 4\\nvalue = [1, 3]'),\n",
       " Text(0.6301369863013698, 0.0625, 'gini = 0.0\\nsamples = 1\\nvalue = [1, 0]'),\n",
       " Text(0.6575342465753424, 0.0625, 'gini = 0.0\\nsamples = 3\\nvalue = [0, 3]'),\n",
       " Text(0.7465753424657534, 0.4375, 'X[6] <= 0.429\\ngini = 0.428\\nsamples = 74\\nvalue = [23, 51]'),\n",
       " Text(0.7123287671232876, 0.3125, 'X[5] <= 45.55\\ngini = 0.499\\nsamples = 38\\nvalue = [18, 20]'),\n",
       " Text(0.6986301369863014, 0.1875, 'X[0] <= 1.5\\ngini = 0.496\\nsamples = 33\\nvalue = [18, 15]'),\n",
       " Text(0.684931506849315, 0.0625, 'gini = 0.0\\nsamples = 3\\nvalue = [0, 3]'),\n",
       " Text(0.7123287671232876, 0.0625, 'gini = 0.48\\nsamples = 30\\nvalue = [18, 12]'),\n",
       " Text(0.726027397260274, 0.1875, 'gini = 0.0\\nsamples = 5\\nvalue = [0, 5]'),\n",
       " Text(0.7808219178082192, 0.3125, 'X[4] <= 333.5\\ngini = 0.239\\nsamples = 36\\nvalue = [5, 31]'),\n",
       " Text(0.7534246575342466, 0.1875, 'X[0] <= 0.5\\ngini = 0.165\\nsamples = 33\\nvalue = [3, 30]'),\n",
       " Text(0.7397260273972602, 0.0625, 'gini = 0.48\\nsamples = 5\\nvalue = [2, 3]'),\n",
       " Text(0.7671232876712328, 0.0625, 'gini = 0.069\\nsamples = 28\\nvalue = [1, 27]'),\n",
       " Text(0.8082191780821918, 0.1875, 'X[6] <= 0.581\\ngini = 0.444\\nsamples = 3\\nvalue = [2, 1]'),\n",
       " Text(0.7945205479452054, 0.0625, 'gini = 0.0\\nsamples = 1\\nvalue = [0, 1]'),\n",
       " Text(0.821917808219178, 0.0625, 'gini = 0.0\\nsamples = 2\\nvalue = [2, 0]'),\n",
       " Text(0.9383561643835616, 0.5625, 'X[4] <= 595.0\\ngini = 0.219\\nsamples = 72\\nvalue = [9, 63]'),\n",
       " Text(0.9041095890410958, 0.4375, 'X[6] <= 0.307\\ngini = 0.182\\nsamples = 69\\nvalue = [7, 62]'),\n",
       " Text(0.8767123287671232, 0.3125, 'X[6] <= 0.288\\ngini = 0.401\\nsamples = 18\\nvalue = [5, 13]'),\n",
       " Text(0.863013698630137, 0.1875, 'X[1] <= 179.5\\ngini = 0.305\\nsamples = 16\\nvalue = [3, 13]'),\n",
       " Text(0.8493150684931506, 0.0625, 'gini = 0.42\\nsamples = 10\\nvalue = [3, 7]'),\n",
       " Text(0.8767123287671232, 0.0625, 'gini = 0.0\\nsamples = 6\\nvalue = [0, 6]'),\n",
       " Text(0.8904109589041096, 0.1875, 'gini = 0.0\\nsamples = 2\\nvalue = [2, 0]'),\n",
       " Text(0.9315068493150684, 0.3125, 'X[7] <= 48.0\\ngini = 0.075\\nsamples = 51\\nvalue = [2, 49]'),\n",
       " Text(0.9178082191780822, 0.1875, 'gini = 0.0\\nsamples = 42\\nvalue = [0, 42]'),\n",
       " Text(0.9452054794520548, 0.1875, 'X[6] <= 1.032\\ngini = 0.346\\nsamples = 9\\nvalue = [2, 7]'),\n",
       " Text(0.9315068493150684, 0.0625, 'gini = 0.219\\nsamples = 8\\nvalue = [1, 7]'),\n",
       " Text(0.958904109589041, 0.0625, 'gini = 0.0\\nsamples = 1\\nvalue = [1, 0]'),\n",
       " Text(0.9726027397260274, 0.4375, 'X[3] <= 28.0\\ngini = 0.444\\nsamples = 3\\nvalue = [2, 1]'),\n",
       " Text(0.958904109589041, 0.3125, 'gini = 0.0\\nsamples = 1\\nvalue = [0, 1]'),\n",
       " Text(0.9863013698630136, 0.3125, 'gini = 0.0\\nsamples = 2\\nvalue = [2, 0]')]"
      ]
     },
     "execution_count": 5,
     "metadata": {},
     "output_type": "execute_result"
    },
    {
     "data": {
      "image/png": "[encoded data removed]",
      "text/plain": [
       "<Figure size 640x480 with 1 Axes>"
      ]
     },
     "metadata": {},
     "output_type": "display_data"
    }
   ],
   "source": [
    "pruned_dt = tree.DecisionTreeClassifier(max_depth=7, random_state=0)\n",
    "pruned_dt.fit(X_train, y_train)\n",
    "\n",
    "tree.plot_tree(pruned_dt)"
   ]
  },
  {
   "cell_type": "markdown",
   "metadata": {},
   "source": [
    "##### __(e) Measure the accuracy of the pruned decision tree on the training and test dataset.__ "
   ]
  },
  {
   "cell_type": "code",
   "execution_count": 6,
   "metadata": {},
   "outputs": [
    {
     "name": "stdout",
     "output_type": "stream",
     "text": [
      "Training Accuracy: 0.8859934853420195\n",
      "Test Accuracy: 0.7922077922077922\n"
     ]
    }
   ],
   "source": [
    "train_accuracy = pruned_dt.score(X_train, y_train)\n",
    "print(\"Training Accuracy:\", train_accuracy)\n",
    "\n",
    "test_accuracy = pruned_dt.score(X_test, y_test)\n",
    "print(\"Test Accuracy:\", test_accuracy)"
   ]
  },
  {
   "cell_type": "markdown",
   "metadata": {},
   "source": [
    "##### __(f) Explain and discuss the results from c) and e).__"
   ]
  },
  {
   "cell_type": "markdown",
   "metadata": {},
   "source": [
    "```\n",
    "> The original decision tree achieved perfect accuracy on the training set (1.0). However, its performance on the test set was lower, which means it might have overfit the training data and doesn't generalize well to new, unseen data. The pruned decision tree avoids the perfect accuracy on the training set, resolving the overfitting issue observed in the original tree, and the pruned decision tree shows a higher test accuracy, which indicates that the pruning helped the model generalize better to new data. \n",
    "```"
   ]
  },
  {
   "cell_type": "markdown",
   "metadata": {},
   "source": [
    "---"
   ]
  },
  {
   "cell_type": "markdown",
   "metadata": {},
   "source": [
    "#### Exercise 2: Naïve Bayes Classification\n",
    "\n",
    "|MsgID|TimeZone|GeoLocation|SuspiciousSubject|SuspiciousBody|Spam|\n",
    "|-----|--------|-----------|-----------------|--------------|----|\n",
    "|1|US|US|No|Yes|No|\n",
    "|2|US|US|No|No|Yes|\n",
    "|3|EU|US|No|Yes|No|\n",
    "|4|AS|EU|No|Yes|Yes|\n",
    "|5|AS|AS|Yes|Yes|Yes|\n",
    "|6|AS|AS|Yes|No|No|\n",
    "|7|EU|AS|Yes|No|Yes|\n",
    "|8|US|EU|No|Yes|No|\n",
    "|9|US|AS|Yes|Yes|Yes|\n",
    "|10|AS|EU|Yes|Yes|Yes|\n",
    "|11|US|EU|Yes|No|Yes|\n",
    "|12|EU|EU|No|No|Yes|\n",
    "|13|EU|US|Yes|Yes|Yes|\n",
    "|14|AS|EU|No|No|No|\n",
    "\n",
    "* EU = Europe; US = United States; AS = Asia"
   ]
  },
  {
   "cell_type": "markdown",
   "metadata": {},
   "source": [
    "##### __(a) According to the lecture slides, a Naïve Bayes Classifier assumes class conditional independence. Explain what this means and why that might be a problem."
   ]
  },
  {
   "cell_type": "markdown",
   "metadata": {},
   "source": [
    "```\n",
    "> Conditional independence is when feature values are independent from each other, and therefore each value is assumed to be a standalone value. However, the prediction may not be as accurate.\n",
    "```"
   ]
  },
  {
   "cell_type": "markdown",
   "metadata": {},
   "source": [
    "##### __(b) For the given data above, calculate all conditional probabilities required by a Naïve Bayes Classifier by hand.__ "
   ]
  },
  {
   "cell_type": "markdown",
   "metadata": {},
   "source": [
    "![b](b.jpg)"
   ]
  },
  {
   "cell_type": "markdown",
   "metadata": {},
   "source": [
    "##### __(c)\tCalculate the posterior probabilities and classify the following three E-Mails by hand, using the probabilities calculated above.__ \n",
    "    a. E-mail A = (US, US, Yes, Yes)\n",
    "    b. E-mail B = (Asia, Asia, No, No)\n",
    "    c. E-mail C = (EU, Asia, No, Yes)\n"
   ]
  },
  {
   "cell_type": "markdown",
   "metadata": {},
   "source": [
    "![c](c.jpg)"
   ]
  },
  {
   "cell_type": "markdown",
   "metadata": {},
   "source": [
    "##### __(d) What problem do you encounter when classifying Email C and which technique could you use to overcome this problem? __ "
   ]
  },
  {
   "cell_type": "markdown",
   "metadata": {},
   "source": [
    "```\n",
    "> We didn't encounter any problem during the calculation, but a zero probability(zero-frequency problem) might occur in similar cases. The way to resolve that is to add one to the count for every attribute value-class combination.\n",
    "```"
   ]
  },
  {
   "cell_type": "markdown",
   "metadata": {},
   "source": [
    "---"
   ]
  },
  {
   "cell_type": "markdown",
   "metadata": {},
   "source": [
    "#### Exercise 3: Naïve Bayes Classification "
   ]
  },
  {
   "cell_type": "markdown",
   "metadata": {},
   "source": [
    "__In this exercise we will use the Naïve Bayes classification methods on a real data set. We will classify the digits dataset (see https://scikit-learn.org/stable/auto_examples/datasets/plot_digits_last_image.html)__"
   ]
  },
  {
   "cell_type": "code",
   "execution_count": 7,
   "metadata": {},
   "outputs": [
    {
     "data": {
      "text/plain": [
       "<Figure size 640x480 with 0 Axes>"
      ]
     },
     "metadata": {},
     "output_type": "display_data"
    },
    {
     "data": {
      "image/png": "[encoded data removed]",
      "text/plain": [
       "<Figure size 480x480 with 1 Axes>"
      ]
     },
     "metadata": {},
     "output_type": "display_data"
    }
   ],
   "source": [
    "from sklearn.datasets import load_digits\n",
    "digits = load_digits()\n",
    "digits.keys()\n",
    "\n",
    "## example plot of one of the digits\n",
    "import matplotlib.pyplot as plt \n",
    "plt.gray()\n",
    "plt.matshow(digits.images[0]) \n",
    "plt.show() "
   ]
  },
  {
   "cell_type": "markdown",
   "metadata": {},
   "source": [
    "##### __(a) Split the dataset into a training (80% rows) and test (20% rows) data. The data column is `digits.data` and the target column `digits.target`.__\n",
    "_(Hint: use the `sklearn.model_selection.train_test_split` and set the parameter to `random_state = 0`)_"
   ]
  },
  {
   "cell_type": "code",
   "execution_count": 8,
   "metadata": {},
   "outputs": [],
   "source": [
    "X_train, X_test, y_train, y_test = train_test_split(digits.data, digits.target, test_size=0.2, random_state=0)"
   ]
  },
  {
   "cell_type": "markdown",
   "metadata": {},
   "source": [
    "##### __(b) Generate a model and fit the dataset on the classifier.__ \n",
    "_(Hint: use already implemented version in `sklearn.naive_bayes.GaussianNB`)_"
   ]
  },
  {
   "cell_type": "code",
   "execution_count": 9,
   "metadata": {},
   "outputs": [
    {
     "data": {
      "text/plain": [
       "GaussianNB()"
      ]
     },
     "execution_count": 9,
     "metadata": {},
     "output_type": "execute_result"
    }
   ],
   "source": [
    "from sklearn.naive_bayes import GaussianNB\n",
    "model = GaussianNB()\n",
    "\n",
    "model.fit(X_train, y_train)"
   ]
  },
  {
   "cell_type": "markdown",
   "metadata": {},
   "source": [
    "##### __(c) Compute the accuracy on the train and test data using the trained model.__ \n",
    "_(Hint: use already the `GaussianNB.predict` and `sklearn.metrics.accuracy_score` method for this)_"
   ]
  },
  {
   "cell_type": "code",
   "execution_count": 10,
   "metadata": {},
   "outputs": [
    {
     "name": "stdout",
     "output_type": "stream",
     "text": [
      "Accuracy on the training set: 0.8559498956158664\n",
      "Accuracy on the test set: 0.825\n"
     ]
    }
   ],
   "source": [
    "from sklearn.metrics import accuracy_score\n",
    "\n",
    "train_predictions = model.predict(X_train)\n",
    "test_predictions = model.predict(X_test)\n",
    "\n",
    "train_accuracy = accuracy_score(y_train, train_predictions)\n",
    "print(\"Accuracy on the training set:\", train_accuracy)\n",
    "\n",
    "test_accuracy = accuracy_score(y_test, test_predictions)\n",
    "print(\"Accuracy on the test set:\", test_accuracy)"
   ]
  },
  {
   "cell_type": "markdown",
   "metadata": {},
   "source": [
    "***<span style=\"color:orange\">Feedback: </span>***\n",
    "\n",
    "- Overall looks great!\n",
    "- 1 looks good\n",
    "- I did not check every single number of 2, but the calculations and results look definitely correct\n",
    "- 3 looks perfect"
   ]
  },
  {
   "cell_type": "markdown",
   "metadata": {},
   "source": [
    "***<span style=\"color:green\">Well done. Grade:green</span>***"
   ]
  }
 ],
 "metadata": {
  "kernelspec": {
   "display_name": "Python 3 (ipykernel)",
   "language": "python",
   "name": "python3"
  },
  "language_info": {
   "codemirror_mode": {
    "name": "ipython",
    "version": 3
   },
   "file_extension": ".py",
   "mimetype": "text/x-python",
   "name": "python",
   "nbconvert_exporter": "python",
   "pygments_lexer": "ipython3",
   "version": "3.9.13"
  },
  "vscode": {
   "interpreter": {
    "hash": "41a53f9f1c4e6100adb615a97637846208a0e91ef79bf1ee121234ca4e90fc3d"
   }
  }
 },
 "nbformat": 4,
 "nbformat_minor": 4
}
