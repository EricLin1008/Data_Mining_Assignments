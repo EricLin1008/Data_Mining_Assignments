{
 "cells": [
  {
   "cell_type": "markdown",
   "metadata": {
    "tags": []
   },
   "source": [
    "Data Mining: Basic Concepts - Winter 2023/24\n",
    "---------------\n",
    "``` \n",
    "> University of Konstanz \n",
    "> Department of Computer and Information Science\n",
    "> Maximilian T. Fischer, Frederik Dennig, Yannick Metz, Udo Schlegel\n",
    "```\n",
    "__Organize in teams of 2 people, return the exercise on time using ILIAS__"
   ]
  },
  {
   "cell_type": "markdown",
   "metadata": {},
   "source": [
    "---"
   ]
  },
  {
   "cell_type": "markdown",
   "metadata": {
    "tags": []
   },
   "source": [
    "Assignment 07 in Python\n",
    "---------------\n",
    "- ___Please put your names and student IDs here___:\n",
    "    - Wei-Cheng Lin, 01/1348028\n",
    "    - Kuon Ito, 01/1358810\n",
    "---    "
   ]
  },
  {
   "cell_type": "markdown",
   "metadata": {},
   "source": [
    "### Exercise 1: Classifying Hand-Written Digits with PyTorch"
   ]
  },
  {
   "cell_type": "markdown",
   "metadata": {
    "tags": []
   },
   "source": [
    "#### Getting Started\n",
    "\n",
    "This exercise will give a short introduction into the framework PyTorch (https://pytorch.org/) to build small and large neural networks.\n",
    "\n",
    "PyTorch is an open-source deep learning framework that’s known for its flexibility and ease-of-use. This is enabled in part by its compatibility with the popular Python high-level programming language favored by machine learning developers and data scientists.\n",
    "\n",
    "##### What is PyTorch?\n",
    "\n",
    "PyTorch is a fully featured framework for building deep learning models, which is a type of machine learning that’s commonly used in applications like image recognition and language processing. Written in Python, it’s relatively easy for most machine learning developers to learn and use. PyTorch is distinctive for its excellent support for GPUs and its use of reverse-mode auto-differentiation, which enables computation graphs to be modified on the fly. This makes it a popular choice for fast experimentation and prototyping.\n",
    "\n",
    "##### Key Benefits of PyTorch\n",
    "\n",
    "- There’s a large and vibrant community at PyTorch.org community with excellent documentation and tutorials. The forums are active and supportive.\n",
    "- It’s written in Python and integrated with popular Python libraries like NumPy for scientific computing, SciPy, and Cython for compiling Python to C for better performance. Because its syntax and usage are similar to Python’s, PyTorch is relatively easy for Python developers to learn.\n",
    "- It supports CPU, GPU, and parallel processing, as well as distributed training. This meana that computational work can be distributed among multiple CPU and GPU cores, and training can be done on multiple GPUs on multiple machines.\n"
   ]
  },
  {
   "cell_type": "markdown",
   "metadata": {},
   "source": [
    "__Please install the `torch` and `torchvision` packages, ideally by following the setup guide: (https://pytorch.org/get-started/locally/).__\n"
   ]
  },
  {
   "cell_type": "markdown",
   "metadata": {
    "jp-MarkdownHeadingCollapsed": true,
    "tags": []
   },
   "source": [
    "#### More Information: \n",
    " \n",
    "You can find many resources on how to get started with PyTorch, both in written form or as videos.\n",
    "In this exercise, we want to give a brief introduction. You will learn how to:\n",
    "\n",
    "1. How to create a model. \n",
    "2. How to select an optimizer, a loss function and a metric. \n",
    "3. How to train the model on data. \n",
    "4. How to predict. "
   ]
  },
  {
   "cell_type": "markdown",
   "metadata": {},
   "source": [
    "#### Exercise 1:  Build your first small Neural Network \n",
    "\n",
    "__In this exercise we will use a Neural Network on a real data set. We will classify the digits dataset (MINST)__\n",
    "\n",
    "You are allowed to use the following packages only."
   ]
  },
  {
   "cell_type": "code",
   "execution_count": 1,
   "metadata": {},
   "outputs": [],
   "source": [
    "import torch\n",
    "import torchvision"
   ]
  },
  {
   "cell_type": "code",
   "execution_count": 2,
   "metadata": {},
   "outputs": [
    {
     "data": {
      "text/plain": [
       "<torch._C.Generator at 0x7fc9d8412ad0>"
      ]
     },
     "execution_count": 2,
     "metadata": {},
     "output_type": "execute_result"
    }
   ],
   "source": [
    "# You can keep the following parameters for training and testing\n",
    "n_epochs = 3\n",
    "batch_size_train = 64\n",
    "batch_size_test = 1000\n",
    "learning_rate = 0.01\n",
    "momentum = 0.5\n",
    "log_interval = 10\n",
    "\n",
    "random_seed = 1\n",
    "torch.manual_seed(random_seed)"
   ]
  },
  {
   "cell_type": "markdown",
   "metadata": {
    "tags": []
   },
   "source": [
    "##### __(a) Load the MNIST dataset via the torchvision dataset functionality. Load both the training and test data__\n",
    "_(Hint: use the `DataLoader` from torch and `datasets.MNIST` class from the torch library, Create a separate dataloader for training and testing.)_\n",
    "\n",
    "- Use a batch size of 64 for training, and 1000 for testing (You can just the parameters before)\n",
    "- You can pass a transform the PyTorch dataloaders to perform pre-processing of the data, use `torchvision.transforms.Compose` to chain the processing steps of `torchvision.transforms.ToTensor()`(converting images to PyTorch tensors) and `torchvision.transforms.Normalize((0.1307,), (0.3081,))` (normalize the data with mean and std. of the MNIST dataset)\n",
    "- Make sure to shuffle the data."
   ]
  },
  {
   "cell_type": "code",
   "execution_count": 3,
   "metadata": {},
   "outputs": [
    {
     "name": "stdout",
     "output_type": "stream",
     "text": [
      "Training data shape: torch.Size([1000, 1, 28, 28])\n",
      "Training labels shape: torch.Size([1000])\n"
     ]
    }
   ],
   "source": [
    "train_loader = torch.utils.data.DataLoader(\n",
    "  torchvision.datasets.MNIST('C:/Users/linwe/Uni/Data_Mining/datamining/Assignment_07', train=True, download=True,\n",
    "                             transform=torchvision.transforms.Compose([\n",
    "                               torchvision.transforms.ToTensor(),\n",
    "                               torchvision.transforms.Normalize(\n",
    "                                 (0.1307,), (0.3081,))\n",
    "                             ])),\n",
    "  batch_size=batch_size_train, shuffle=True)\n",
    "\n",
    "test_loader = torch.utils.data.DataLoader(\n",
    "  torchvision.datasets.MNIST('C:/Users/linwe/Uni/Data_Mining/datamining/Assignment_07', train=False, download=True,\n",
    "                             transform=torchvision.transforms.Compose([\n",
    "                               torchvision.transforms.ToTensor(),\n",
    "                               torchvision.transforms.Normalize(\n",
    "                                 (0.1307,), (0.3081,))\n",
    "                             ])),\n",
    "  batch_size=batch_size_test, shuffle=True)\n",
    "\n",
    "examples = enumerate(test_loader)\n",
    "batch_idx, (example_data, example_targets) = next(examples)\n",
    "\n",
    "print(\"Training data shape:\", example_data.shape)\n",
    "print(\"Training labels shape:\", example_targets.shape)"
   ]
  },
  {
   "cell_type": "markdown",
   "metadata": {
    "tags": []
   },
   "source": [
    "##### __(b) Quickly describe what the MMNIST dataset is. If you like, you can also visualize samples from the dataset.__"
   ]
  },
  {
   "cell_type": "code",
   "execution_count": 4,
   "metadata": {},
   "outputs": [
    {
     "data": {
      "image/png": "[encoded data removed]",
      "text/plain": [
       "<Figure size 640x480 with 9 Axes>"
      ]
     },
     "metadata": {},
     "output_type": "display_data"
    }
   ],
   "source": [
    "import matplotlib.pyplot as plt\n",
    "\n",
    "for i in range(9):\n",
    "  plt.subplot(3,3,i+1)\n",
    "  plt.tight_layout()\n",
    "  plt.imshow(example_data[i][0], cmap='gray', interpolation='none')\n",
    "  plt.title(\"Ground Truth: {}\".format(example_targets[i]))\n",
    "  plt.xticks([])\n",
    "  plt.yticks([])\n",
    "plt.show()"
   ]
  },
  {
   "attachments": {},
   "cell_type": "markdown",
   "metadata": {
    "tags": []
   },
   "source": [
    "##### __(c) Create the neural network to train.__\n",
    "\n",
    "Create a network with the `torch.nn` package. The package contains many different layers with can be composed into complex neural networks.\n",
    "- Create a class `Net` that inherits from `nn.Module`.\n",
    "- Specify the layers you want to use in the `__init__(self)` method of the class.\n",
    "- Define the `forward(self, x)` to define how the output is computed given the input `x` and layers you specified in the init\n",
    "\n",
    "You have ***two options*** for your network. Choose either one:\n",
    "\n",
    "1. Use this given architecture: A CNN network architecture containing the following layers:\n",
    "- A first `Conv2d` layer with kernel size 5, 10 filters, and stride 2\n",
    "- A `nn.RELU()` activation layer\n",
    "- A second `Conv2d` layer with kernel size 5 and 20 filters, and stride 2\n",
    "- A `nn.RELU()`activation layer\n",
    "- A first fully connected (`linear`) layer with 320 input neurons and 50 output neurons\n",
    "- A final `nn.RELU()` activation layer\n",
    "- A second fully connected layer with 50 input neurons and 10 output neurons (corresponding to the number of classes)\n",
    "- A softmax layer that turns the network activations into class probabilities\n",
    "\n",
    "2. Choose and implement your own network architecture. You are completely free in choosing a architecture you build from layers of the `nn` package. As the only condition, your network should achieve a test accuracy of at least 85%."
   ]
  },
  {
   "cell_type": "code",
   "execution_count": 5,
   "metadata": {},
   "outputs": [],
   "source": [
    "import torch.nn as nn\n",
    "\n",
    "import torch.nn.functional as F\n",
    "import torch.optim as optim\n",
    "\n",
    "class Net(nn.Module):\n",
    "    def __init__(self):\n",
    "        super(Net, self).__init__()\n",
    "        self.conv1 = nn.Conv2d(1, 10, kernel_size=5)\n",
    "        self.conv2 = nn.Conv2d(10, 20, kernel_size=5)\n",
    "        self.conv2_drop = nn.Dropout2d()\n",
    "        self.fc1 = nn.Linear(320, 50)\n",
    "        self.fc2 = nn.Linear(50, 10)\n",
    "\n",
    "    def forward(self, x):\n",
    "        x = F.relu(F.max_pool2d(self.conv1(x), 2))\n",
    "        x = F.relu(F.max_pool2d(self.conv2_drop(self.conv2(x)), 2))\n",
    "        x = x.view(-1, 320)\n",
    "        x = F.relu(self.fc1(x))\n",
    "        x = F.dropout(x, training=self.training)\n",
    "        x = self.fc2(x)\n",
    "        return F.log_softmax(x)"
   ]
  },
  {
   "cell_type": "markdown",
   "metadata": {},
   "source": [
    "##### __(d) Initialize the network (by calling the empty constructor) and create the optimizer (`optim.SGD`) by passing the network parameters.__"
   ]
  },
  {
   "cell_type": "code",
   "execution_count": 6,
   "metadata": {},
   "outputs": [],
   "source": [
    "import torch.optim as optim\n",
    "\n",
    "network = Net()\n",
    "\n",
    "optimizer = optim.SGD(network.parameters(), lr=learning_rate,\n",
    "                      momentum=momentum)"
   ]
  },
  {
   "cell_type": "markdown",
   "metadata": {
    "tags": []
   },
   "source": [
    "##### __(f) We now train the neural network on the training data set and predict the test data set. For this, we have implemented the train and test functions for you. If you did the previous task correctly, this code should run without errors.__\n",
    "\n",
    "In this exercise, you task is to understand the given code. Try to ***fill the empty comments marked by `Explanation:`*** in the following code blocks. You can use any online ressources you like as reference:"
   ]
  },
  {
   "cell_type": "code",
   "execution_count": 7,
   "metadata": {},
   "outputs": [],
   "source": [
    "train_losses = []\n",
    "train_counter = []\n",
    "test_losses = []\n",
    "test_counter = [i*len(train_loader.dataset) for i in range(n_epochs + 1)]"
   ]
  },
  {
   "cell_type": "code",
   "execution_count": 8,
   "metadata": {
    "tags": []
   },
   "outputs": [],
   "source": [
    "import torch.nn.functional as F\n",
    "\n",
    "def train(epoch): \n",
    "    network.train()\n",
    "    for batch_idx, (data, target) in enumerate(train_loader):\n",
    "        optimizer.zero_grad() # Explanation: <Here>\n",
    "        output = network(data)\n",
    "        loss = F.nll_loss(output, target) # Explanation: <Here>\n",
    "        loss.backward() # Explanation: <Here>\n",
    "        optimizer.step() # Explanation: <Here>\n",
    "        if batch_idx % log_interval == 0:\n",
    "            print('Train Epoch: {} [{}/{} ({:.0f}%)]\\tLoss: {:.6f}'.format(\n",
    "            epoch, batch_idx * len(data), len(train_loader.dataset),\n",
    "            100. * batch_idx / len(train_loader), loss.item()))\n",
    "            train_losses.append(loss.item())\n",
    "            train_counter.append(\n",
    "            (batch_idx*64) + ((epoch-1)*len(train_loader.dataset)))"
   ]
  },
  {
   "cell_type": "code",
   "execution_count": 9,
   "metadata": {},
   "outputs": [],
   "source": [
    "def test():\n",
    "    network.eval() # Explanation: <Here>\n",
    "    test_loss = 0\n",
    "    correct = 0\n",
    "    with torch.no_grad(): # Explanation: <Here>\n",
    "        for data, target in test_loader:\n",
    "            output = network(data)\n",
    "            test_loss += F.nll_loss(output, target, size_average=False).item() # Explanation: <Here>\n",
    "            pred = output.data.max(1, keepdim=True)[1] # Explanation: <Here>\n",
    "            correct += pred.eq(target.data.view_as(pred)).sum()\n",
    "        test_loss /= len(test_loader.dataset)\n",
    "        test_losses.append(test_loss)\n",
    "        print('\\nTest set: Avg. loss: {:.4f}, Accuracy: {}/{} ({:.0f}%)\\n'.format(\n",
    "        test_loss, correct, len(test_loader.dataset),\n",
    "        100. * correct / len(test_loader.dataset)))"
   ]
  },
  {
   "cell_type": "markdown",
   "metadata": {},
   "source": [
    "##### __(g) Run training and testing and describe the output.__"
   ]
  },
  {
   "cell_type": "code",
   "execution_count": 10,
   "metadata": {},
   "outputs": [
    {
     "name": "stderr",
     "output_type": "stream",
     "text": [
      "/var/folders/bc/wj9fb4sn72x23376jk6n_b5w0000gn/T/ipykernel_3363/3678897053.py:22: UserWarning: Implicit dimension choice for log_softmax has been deprecated. Change the call to include dim=X as an argument.\n",
      "  return F.log_softmax(x)\n",
      "/Users/linweicheng/opt/anaconda3/lib/python3.9/site-packages/torch/nn/_reduction.py:42: UserWarning: size_average and reduce args will be deprecated, please use reduction='sum' instead.\n",
      "  warnings.warn(warning.format(ret))\n"
     ]
    },
    {
     "name": "stdout",
     "output_type": "stream",
     "text": [
      "\n",
      "Test set: Avg. loss: 2.3096, Accuracy: 924/10000 (9%)\n",
      "\n",
      "Train Epoch: 1 [0/60000 (0%)]\tLoss: 2.313179\n",
      "Train Epoch: 1 [640/60000 (1%)]\tLoss: 2.300776\n",
      "Train Epoch: 1 [1280/60000 (2%)]\tLoss: 2.298872\n",
      "Train Epoch: 1 [1920/60000 (3%)]\tLoss: 2.276723\n",
      "Train Epoch: 1 [2560/60000 (4%)]\tLoss: 2.241102\n",
      "Train Epoch: 1 [3200/60000 (5%)]\tLoss: 2.248662\n",
      "Train Epoch: 1 [3840/60000 (6%)]\tLoss: 2.189547\n",
      "Train Epoch: 1 [4480/60000 (7%)]\tLoss: 2.146399\n",
      "Train Epoch: 1 [5120/60000 (9%)]\tLoss: 2.107701\n",
      "Train Epoch: 1 [5760/60000 (10%)]\tLoss: 2.011356\n",
      "Train Epoch: 1 [6400/60000 (11%)]\tLoss: 1.843857\n",
      "Train Epoch: 1 [7040/60000 (12%)]\tLoss: 1.758839\n",
      "Train Epoch: 1 [7680/60000 (13%)]\tLoss: 1.672644\n",
      "Train Epoch: 1 [8320/60000 (14%)]\tLoss: 1.687645\n",
      "Train Epoch: 1 [8960/60000 (15%)]\tLoss: 1.426628\n",
      "Train Epoch: 1 [9600/60000 (16%)]\tLoss: 1.284204\n",
      "Train Epoch: 1 [10240/60000 (17%)]\tLoss: 1.318824\n",
      "Train Epoch: 1 [10880/60000 (18%)]\tLoss: 1.445287\n",
      "Train Epoch: 1 [11520/60000 (19%)]\tLoss: 1.140686\n",
      "Train Epoch: 1 [12160/60000 (20%)]\tLoss: 1.152914\n",
      "Train Epoch: 1 [12800/60000 (21%)]\tLoss: 1.054201\n",
      "Train Epoch: 1 [13440/60000 (22%)]\tLoss: 0.900051\n",
      "Train Epoch: 1 [14080/60000 (23%)]\tLoss: 1.192117\n",
      "Train Epoch: 1 [14720/60000 (25%)]\tLoss: 0.944671\n",
      "Train Epoch: 1 [15360/60000 (26%)]\tLoss: 0.883142\n",
      "Train Epoch: 1 [16000/60000 (27%)]\tLoss: 0.846327\n",
      "Train Epoch: 1 [16640/60000 (28%)]\tLoss: 0.773429\n",
      "Train Epoch: 1 [17280/60000 (29%)]\tLoss: 0.760332\n",
      "Train Epoch: 1 [17920/60000 (30%)]\tLoss: 0.813500\n",
      "Train Epoch: 1 [18560/60000 (31%)]\tLoss: 0.890023\n",
      "Train Epoch: 1 [19200/60000 (32%)]\tLoss: 0.797666\n",
      "Train Epoch: 1 [19840/60000 (33%)]\tLoss: 0.903690\n",
      "Train Epoch: 1 [20480/60000 (34%)]\tLoss: 0.582573\n",
      "Train Epoch: 1 [21120/60000 (35%)]\tLoss: 0.689915\n",
      "Train Epoch: 1 [21760/60000 (36%)]\tLoss: 0.625788\n",
      "Train Epoch: 1 [22400/60000 (37%)]\tLoss: 0.770130\n",
      "Train Epoch: 1 [23040/60000 (38%)]\tLoss: 0.728703\n",
      "Train Epoch: 1 [23680/60000 (39%)]\tLoss: 0.634287\n",
      "Train Epoch: 1 [24320/60000 (41%)]\tLoss: 0.662664\n",
      "Train Epoch: 1 [24960/60000 (42%)]\tLoss: 0.837865\n",
      "Train Epoch: 1 [25600/60000 (43%)]\tLoss: 0.864284\n",
      "Train Epoch: 1 [26240/60000 (44%)]\tLoss: 0.624227\n",
      "Train Epoch: 1 [26880/60000 (45%)]\tLoss: 0.626281\n",
      "Train Epoch: 1 [27520/60000 (46%)]\tLoss: 0.678808\n",
      "Train Epoch: 1 [28160/60000 (47%)]\tLoss: 0.598430\n",
      "Train Epoch: 1 [28800/60000 (48%)]\tLoss: 0.549286\n",
      "Train Epoch: 1 [29440/60000 (49%)]\tLoss: 0.827346\n",
      "Train Epoch: 1 [30080/60000 (50%)]\tLoss: 0.739455\n",
      "Train Epoch: 1 [30720/60000 (51%)]\tLoss: 0.627517\n",
      "Train Epoch: 1 [31360/60000 (52%)]\tLoss: 0.646752\n",
      "Train Epoch: 1 [32000/60000 (53%)]\tLoss: 0.713839\n",
      "Train Epoch: 1 [32640/60000 (54%)]\tLoss: 0.442789\n",
      "Train Epoch: 1 [33280/60000 (55%)]\tLoss: 0.586869\n",
      "Train Epoch: 1 [33920/60000 (57%)]\tLoss: 0.571755\n",
      "Train Epoch: 1 [34560/60000 (58%)]\tLoss: 0.667205\n",
      "Train Epoch: 1 [35200/60000 (59%)]\tLoss: 0.574606\n",
      "Train Epoch: 1 [35840/60000 (60%)]\tLoss: 0.565771\n",
      "Train Epoch: 1 [36480/60000 (61%)]\tLoss: 0.621348\n",
      "Train Epoch: 1 [37120/60000 (62%)]\tLoss: 0.809173\n",
      "Train Epoch: 1 [37760/60000 (63%)]\tLoss: 0.572844\n",
      "Train Epoch: 1 [38400/60000 (64%)]\tLoss: 0.622160\n",
      "Train Epoch: 1 [39040/60000 (65%)]\tLoss: 0.541244\n",
      "Train Epoch: 1 [39680/60000 (66%)]\tLoss: 0.608936\n",
      "Train Epoch: 1 [40320/60000 (67%)]\tLoss: 0.322770\n",
      "Train Epoch: 1 [40960/60000 (68%)]\tLoss: 0.338646\n",
      "Train Epoch: 1 [41600/60000 (69%)]\tLoss: 0.379829\n",
      "Train Epoch: 1 [42240/60000 (70%)]\tLoss: 0.301555\n",
      "Train Epoch: 1 [42880/60000 (71%)]\tLoss: 0.410326\n",
      "Train Epoch: 1 [43520/60000 (72%)]\tLoss: 0.440008\n",
      "Train Epoch: 1 [44160/60000 (74%)]\tLoss: 0.460907\n",
      "Train Epoch: 1 [44800/60000 (75%)]\tLoss: 0.606198\n",
      "Train Epoch: 1 [45440/60000 (76%)]\tLoss: 0.541168\n",
      "Train Epoch: 1 [46080/60000 (77%)]\tLoss: 0.517034\n",
      "Train Epoch: 1 [46720/60000 (78%)]\tLoss: 0.375141\n",
      "Train Epoch: 1 [47360/60000 (79%)]\tLoss: 0.492151\n",
      "Train Epoch: 1 [48000/60000 (80%)]\tLoss: 0.563251\n",
      "Train Epoch: 1 [48640/60000 (81%)]\tLoss: 0.415241\n",
      "Train Epoch: 1 [49280/60000 (82%)]\tLoss: 0.392613\n",
      "Train Epoch: 1 [49920/60000 (83%)]\tLoss: 0.523656\n",
      "Train Epoch: 1 [50560/60000 (84%)]\tLoss: 0.424975\n",
      "Train Epoch: 1 [51200/60000 (85%)]\tLoss: 0.697990\n",
      "Train Epoch: 1 [51840/60000 (86%)]\tLoss: 0.511259\n",
      "Train Epoch: 1 [52480/60000 (87%)]\tLoss: 0.696128\n",
      "Train Epoch: 1 [53120/60000 (88%)]\tLoss: 0.548117\n",
      "Train Epoch: 1 [53760/60000 (90%)]\tLoss: 0.557732\n",
      "Train Epoch: 1 [54400/60000 (91%)]\tLoss: 0.637333\n",
      "Train Epoch: 1 [55040/60000 (92%)]\tLoss: 0.451242\n",
      "Train Epoch: 1 [55680/60000 (93%)]\tLoss: 0.546364\n",
      "Train Epoch: 1 [56320/60000 (94%)]\tLoss: 0.551388\n",
      "Train Epoch: 1 [56960/60000 (95%)]\tLoss: 0.361133\n",
      "Train Epoch: 1 [57600/60000 (96%)]\tLoss: 0.320192\n",
      "Train Epoch: 1 [58240/60000 (97%)]\tLoss: 0.297229\n",
      "Train Epoch: 1 [58880/60000 (98%)]\tLoss: 0.728650\n",
      "Train Epoch: 1 [59520/60000 (99%)]\tLoss: 0.383588\n",
      "\n",
      "Test set: Avg. loss: 0.1863, Accuracy: 9436/10000 (94%)\n",
      "\n",
      "Train Epoch: 2 [0/60000 (0%)]\tLoss: 0.444924\n",
      "Train Epoch: 2 [640/60000 (1%)]\tLoss: 0.441352\n",
      "Train Epoch: 2 [1280/60000 (2%)]\tLoss: 0.491496\n",
      "Train Epoch: 2 [1920/60000 (3%)]\tLoss: 0.512720\n",
      "Train Epoch: 2 [2560/60000 (4%)]\tLoss: 0.303904\n",
      "Train Epoch: 2 [3200/60000 (5%)]\tLoss: 0.167838\n",
      "Train Epoch: 2 [3840/60000 (6%)]\tLoss: 0.492816\n",
      "Train Epoch: 2 [4480/60000 (7%)]\tLoss: 0.416682\n",
      "Train Epoch: 2 [5120/60000 (9%)]\tLoss: 0.388654\n",
      "Train Epoch: 2 [5760/60000 (10%)]\tLoss: 0.637527\n",
      "Train Epoch: 2 [6400/60000 (11%)]\tLoss: 0.573222\n",
      "Train Epoch: 2 [7040/60000 (12%)]\tLoss: 0.306251\n",
      "Train Epoch: 2 [7680/60000 (13%)]\tLoss: 0.439349\n",
      "Train Epoch: 2 [8320/60000 (14%)]\tLoss: 0.638956\n",
      "Train Epoch: 2 [8960/60000 (15%)]\tLoss: 0.486931\n",
      "Train Epoch: 2 [9600/60000 (16%)]\tLoss: 0.439983\n",
      "Train Epoch: 2 [10240/60000 (17%)]\tLoss: 0.314466\n",
      "Train Epoch: 2 [10880/60000 (18%)]\tLoss: 0.496744\n",
      "Train Epoch: 2 [11520/60000 (19%)]\tLoss: 0.320990\n",
      "Train Epoch: 2 [12160/60000 (20%)]\tLoss: 0.318007\n",
      "Train Epoch: 2 [12800/60000 (21%)]\tLoss: 0.477808\n",
      "Train Epoch: 2 [13440/60000 (22%)]\tLoss: 0.452729\n",
      "Train Epoch: 2 [14080/60000 (23%)]\tLoss: 0.488144\n",
      "Train Epoch: 2 [14720/60000 (25%)]\tLoss: 0.359764\n",
      "Train Epoch: 2 [15360/60000 (26%)]\tLoss: 0.209202\n",
      "Train Epoch: 2 [16000/60000 (27%)]\tLoss: 0.249358\n",
      "Train Epoch: 2 [16640/60000 (28%)]\tLoss: 0.368311\n",
      "Train Epoch: 2 [17280/60000 (29%)]\tLoss: 0.422656\n",
      "Train Epoch: 2 [17920/60000 (30%)]\tLoss: 0.326068\n",
      "Train Epoch: 2 [18560/60000 (31%)]\tLoss: 0.333496\n",
      "Train Epoch: 2 [19200/60000 (32%)]\tLoss: 0.492008\n",
      "Train Epoch: 2 [19840/60000 (33%)]\tLoss: 0.335217\n",
      "Train Epoch: 2 [20480/60000 (34%)]\tLoss: 0.369556\n",
      "Train Epoch: 2 [21120/60000 (35%)]\tLoss: 0.354055\n",
      "Train Epoch: 2 [21760/60000 (36%)]\tLoss: 0.492543\n",
      "Train Epoch: 2 [22400/60000 (37%)]\tLoss: 0.611785\n",
      "Train Epoch: 2 [23040/60000 (38%)]\tLoss: 0.510655\n",
      "Train Epoch: 2 [23680/60000 (39%)]\tLoss: 0.342165\n",
      "Train Epoch: 2 [24320/60000 (41%)]\tLoss: 0.390739\n",
      "Train Epoch: 2 [24960/60000 (42%)]\tLoss: 0.215253\n",
      "Train Epoch: 2 [25600/60000 (43%)]\tLoss: 0.200566\n",
      "Train Epoch: 2 [26240/60000 (44%)]\tLoss: 0.391530\n",
      "Train Epoch: 2 [26880/60000 (45%)]\tLoss: 0.311037\n",
      "Train Epoch: 2 [27520/60000 (46%)]\tLoss: 0.232649\n",
      "Train Epoch: 2 [28160/60000 (47%)]\tLoss: 0.178484\n",
      "Train Epoch: 2 [28800/60000 (48%)]\tLoss: 0.257124\n",
      "Train Epoch: 2 [29440/60000 (49%)]\tLoss: 0.523614\n",
      "Train Epoch: 2 [30080/60000 (50%)]\tLoss: 0.286257\n",
      "Train Epoch: 2 [30720/60000 (51%)]\tLoss: 0.314380\n",
      "Train Epoch: 2 [31360/60000 (52%)]\tLoss: 0.435334\n",
      "Train Epoch: 2 [32000/60000 (53%)]\tLoss: 0.682943\n",
      "Train Epoch: 2 [32640/60000 (54%)]\tLoss: 0.308271\n",
      "Train Epoch: 2 [33280/60000 (55%)]\tLoss: 0.263035\n",
      "Train Epoch: 2 [33920/60000 (57%)]\tLoss: 0.434438\n",
      "Train Epoch: 2 [34560/60000 (58%)]\tLoss: 0.389161\n",
      "Train Epoch: 2 [35200/60000 (59%)]\tLoss: 0.417653\n",
      "Train Epoch: 2 [35840/60000 (60%)]\tLoss: 0.458688\n",
      "Train Epoch: 2 [36480/60000 (61%)]\tLoss: 0.341646\n",
      "Train Epoch: 2 [37120/60000 (62%)]\tLoss: 0.485079\n",
      "Train Epoch: 2 [37760/60000 (63%)]\tLoss: 0.443217\n",
      "Train Epoch: 2 [38400/60000 (64%)]\tLoss: 0.284012\n",
      "Train Epoch: 2 [39040/60000 (65%)]\tLoss: 0.200570\n",
      "Train Epoch: 2 [39680/60000 (66%)]\tLoss: 0.420721\n",
      "Train Epoch: 2 [40320/60000 (67%)]\tLoss: 0.196424\n",
      "Train Epoch: 2 [40960/60000 (68%)]\tLoss: 0.501626\n",
      "Train Epoch: 2 [41600/60000 (69%)]\tLoss: 0.142176\n",
      "Train Epoch: 2 [42240/60000 (70%)]\tLoss: 0.357040\n",
      "Train Epoch: 2 [42880/60000 (71%)]\tLoss: 0.483522\n",
      "Train Epoch: 2 [43520/60000 (72%)]\tLoss: 0.267746\n",
      "Train Epoch: 2 [44160/60000 (74%)]\tLoss: 0.402394\n",
      "Train Epoch: 2 [44800/60000 (75%)]\tLoss: 0.233393\n",
      "Train Epoch: 2 [45440/60000 (76%)]\tLoss: 0.507438\n",
      "Train Epoch: 2 [46080/60000 (77%)]\tLoss: 0.281106\n",
      "Train Epoch: 2 [46720/60000 (78%)]\tLoss: 0.278472\n",
      "Train Epoch: 2 [47360/60000 (79%)]\tLoss: 0.202046\n",
      "Train Epoch: 2 [48000/60000 (80%)]\tLoss: 0.255778\n",
      "Train Epoch: 2 [48640/60000 (81%)]\tLoss: 0.355990\n",
      "Train Epoch: 2 [49280/60000 (82%)]\tLoss: 0.454783\n",
      "Train Epoch: 2 [49920/60000 (83%)]\tLoss: 0.279860\n",
      "Train Epoch: 2 [50560/60000 (84%)]\tLoss: 0.329711\n",
      "Train Epoch: 2 [51200/60000 (85%)]\tLoss: 0.432885\n",
      "Train Epoch: 2 [51840/60000 (86%)]\tLoss: 0.318243\n",
      "Train Epoch: 2 [52480/60000 (87%)]\tLoss: 0.356456\n",
      "Train Epoch: 2 [53120/60000 (88%)]\tLoss: 0.258404\n",
      "Train Epoch: 2 [53760/60000 (90%)]\tLoss: 0.239347\n",
      "Train Epoch: 2 [54400/60000 (91%)]\tLoss: 0.200481\n",
      "Train Epoch: 2 [55040/60000 (92%)]\tLoss: 0.477578\n",
      "Train Epoch: 2 [55680/60000 (93%)]\tLoss: 0.186892\n",
      "Train Epoch: 2 [56320/60000 (94%)]\tLoss: 0.364980\n",
      "Train Epoch: 2 [56960/60000 (95%)]\tLoss: 0.218861\n",
      "Train Epoch: 2 [57600/60000 (96%)]\tLoss: 0.569489\n",
      "Train Epoch: 2 [58240/60000 (97%)]\tLoss: 0.489199\n",
      "Train Epoch: 2 [58880/60000 (98%)]\tLoss: 0.286282\n",
      "Train Epoch: 2 [59520/60000 (99%)]\tLoss: 0.285028\n",
      "\n",
      "Test set: Avg. loss: 0.1158, Accuracy: 9632/10000 (96%)\n",
      "\n",
      "Train Epoch: 3 [0/60000 (0%)]\tLoss: 0.204864\n",
      "Train Epoch: 3 [640/60000 (1%)]\tLoss: 0.251803\n",
      "Train Epoch: 3 [1280/60000 (2%)]\tLoss: 0.386321\n",
      "Train Epoch: 3 [1920/60000 (3%)]\tLoss: 0.256643\n",
      "Train Epoch: 3 [2560/60000 (4%)]\tLoss: 0.262505\n",
      "Train Epoch: 3 [3200/60000 (5%)]\tLoss: 0.318436\n",
      "Train Epoch: 3 [3840/60000 (6%)]\tLoss: 0.258220\n",
      "Train Epoch: 3 [4480/60000 (7%)]\tLoss: 0.488549\n",
      "Train Epoch: 3 [5120/60000 (9%)]\tLoss: 0.500609\n",
      "Train Epoch: 3 [5760/60000 (10%)]\tLoss: 0.417825\n",
      "Train Epoch: 3 [6400/60000 (11%)]\tLoss: 0.320921\n",
      "Train Epoch: 3 [7040/60000 (12%)]\tLoss: 0.340788\n",
      "Train Epoch: 3 [7680/60000 (13%)]\tLoss: 0.250422\n",
      "Train Epoch: 3 [8320/60000 (14%)]\tLoss: 0.155009\n",
      "Train Epoch: 3 [8960/60000 (15%)]\tLoss: 0.260527\n",
      "Train Epoch: 3 [9600/60000 (16%)]\tLoss: 0.250730\n",
      "Train Epoch: 3 [10240/60000 (17%)]\tLoss: 0.282817\n",
      "Train Epoch: 3 [10880/60000 (18%)]\tLoss: 0.298322\n",
      "Train Epoch: 3 [11520/60000 (19%)]\tLoss: 0.423141\n",
      "Train Epoch: 3 [12160/60000 (20%)]\tLoss: 0.212810\n",
      "Train Epoch: 3 [12800/60000 (21%)]\tLoss: 0.454647\n",
      "Train Epoch: 3 [13440/60000 (22%)]\tLoss: 0.345896\n",
      "Train Epoch: 3 [14080/60000 (23%)]\tLoss: 0.348982\n",
      "Train Epoch: 3 [14720/60000 (25%)]\tLoss: 0.299992\n",
      "Train Epoch: 3 [15360/60000 (26%)]\tLoss: 0.336702\n",
      "Train Epoch: 3 [16000/60000 (27%)]\tLoss: 0.819656\n",
      "Train Epoch: 3 [16640/60000 (28%)]\tLoss: 0.529232\n",
      "Train Epoch: 3 [17280/60000 (29%)]\tLoss: 0.446632\n",
      "Train Epoch: 3 [17920/60000 (30%)]\tLoss: 0.312891\n",
      "Train Epoch: 3 [18560/60000 (31%)]\tLoss: 0.323954\n",
      "Train Epoch: 3 [19200/60000 (32%)]\tLoss: 0.351401\n",
      "Train Epoch: 3 [19840/60000 (33%)]\tLoss: 0.385235\n",
      "Train Epoch: 3 [20480/60000 (34%)]\tLoss: 0.175606\n",
      "Train Epoch: 3 [21120/60000 (35%)]\tLoss: 0.181978\n",
      "Train Epoch: 3 [21760/60000 (36%)]\tLoss: 0.323925\n",
      "Train Epoch: 3 [22400/60000 (37%)]\tLoss: 0.221255\n",
      "Train Epoch: 3 [23040/60000 (38%)]\tLoss: 0.434244\n",
      "Train Epoch: 3 [23680/60000 (39%)]\tLoss: 0.220683\n",
      "Train Epoch: 3 [24320/60000 (41%)]\tLoss: 0.262475\n",
      "Train Epoch: 3 [24960/60000 (42%)]\tLoss: 0.181427\n",
      "Train Epoch: 3 [25600/60000 (43%)]\tLoss: 0.419500\n",
      "Train Epoch: 3 [26240/60000 (44%)]\tLoss: 0.197524\n",
      "Train Epoch: 3 [26880/60000 (45%)]\tLoss: 0.191409\n",
      "Train Epoch: 3 [27520/60000 (46%)]\tLoss: 0.203591\n",
      "Train Epoch: 3 [28160/60000 (47%)]\tLoss: 0.340424\n",
      "Train Epoch: 3 [28800/60000 (48%)]\tLoss: 0.500817\n",
      "Train Epoch: 3 [29440/60000 (49%)]\tLoss: 0.168255\n",
      "Train Epoch: 3 [30080/60000 (50%)]\tLoss: 0.271771\n",
      "Train Epoch: 3 [30720/60000 (51%)]\tLoss: 0.226337\n",
      "Train Epoch: 3 [31360/60000 (52%)]\tLoss: 0.225869\n",
      "Train Epoch: 3 [32000/60000 (53%)]\tLoss: 0.456158\n",
      "Train Epoch: 3 [32640/60000 (54%)]\tLoss: 0.322903\n",
      "Train Epoch: 3 [33280/60000 (55%)]\tLoss: 0.166399\n",
      "Train Epoch: 3 [33920/60000 (57%)]\tLoss: 0.447894\n",
      "Train Epoch: 3 [34560/60000 (58%)]\tLoss: 0.248597\n",
      "Train Epoch: 3 [35200/60000 (59%)]\tLoss: 0.322981\n",
      "Train Epoch: 3 [35840/60000 (60%)]\tLoss: 0.477041\n",
      "Train Epoch: 3 [36480/60000 (61%)]\tLoss: 0.180239\n",
      "Train Epoch: 3 [37120/60000 (62%)]\tLoss: 0.212733\n",
      "Train Epoch: 3 [37760/60000 (63%)]\tLoss: 0.306522\n",
      "Train Epoch: 3 [38400/60000 (64%)]\tLoss: 0.457860\n",
      "Train Epoch: 3 [39040/60000 (65%)]\tLoss: 0.340115\n",
      "Train Epoch: 3 [39680/60000 (66%)]\tLoss: 0.200704\n",
      "Train Epoch: 3 [40320/60000 (67%)]\tLoss: 0.237324\n",
      "Train Epoch: 3 [40960/60000 (68%)]\tLoss: 0.474206\n",
      "Train Epoch: 3 [41600/60000 (69%)]\tLoss: 0.335124\n",
      "Train Epoch: 3 [42240/60000 (70%)]\tLoss: 0.406525\n",
      "Train Epoch: 3 [42880/60000 (71%)]\tLoss: 0.182071\n",
      "Train Epoch: 3 [43520/60000 (72%)]\tLoss: 0.232771\n",
      "Train Epoch: 3 [44160/60000 (74%)]\tLoss: 0.301530\n",
      "Train Epoch: 3 [44800/60000 (75%)]\tLoss: 0.184817\n",
      "Train Epoch: 3 [45440/60000 (76%)]\tLoss: 0.253018\n",
      "Train Epoch: 3 [46080/60000 (77%)]\tLoss: 0.356190\n",
      "Train Epoch: 3 [46720/60000 (78%)]\tLoss: 0.190647\n",
      "Train Epoch: 3 [47360/60000 (79%)]\tLoss: 0.370683\n",
      "Train Epoch: 3 [48000/60000 (80%)]\tLoss: 0.319279\n",
      "Train Epoch: 3 [48640/60000 (81%)]\tLoss: 0.225457\n",
      "Train Epoch: 3 [49280/60000 (82%)]\tLoss: 0.231749\n",
      "Train Epoch: 3 [49920/60000 (83%)]\tLoss: 0.487402\n",
      "Train Epoch: 3 [50560/60000 (84%)]\tLoss: 0.448309\n",
      "Train Epoch: 3 [51200/60000 (85%)]\tLoss: 0.434831\n",
      "Train Epoch: 3 [51840/60000 (86%)]\tLoss: 0.239636\n",
      "Train Epoch: 3 [52480/60000 (87%)]\tLoss: 0.481910\n",
      "Train Epoch: 3 [53120/60000 (88%)]\tLoss: 0.215762\n",
      "Train Epoch: 3 [53760/60000 (90%)]\tLoss: 0.184676\n",
      "Train Epoch: 3 [54400/60000 (91%)]\tLoss: 0.392848\n",
      "Train Epoch: 3 [55040/60000 (92%)]\tLoss: 0.311248\n",
      "Train Epoch: 3 [55680/60000 (93%)]\tLoss: 0.171161\n",
      "Train Epoch: 3 [56320/60000 (94%)]\tLoss: 0.276337\n",
      "Train Epoch: 3 [56960/60000 (95%)]\tLoss: 0.346187\n",
      "Train Epoch: 3 [57600/60000 (96%)]\tLoss: 0.493485\n",
      "Train Epoch: 3 [58240/60000 (97%)]\tLoss: 0.365904\n",
      "Train Epoch: 3 [58880/60000 (98%)]\tLoss: 0.117709\n",
      "Train Epoch: 3 [59520/60000 (99%)]\tLoss: 0.322189\n",
      "\n",
      "Test set: Avg. loss: 0.0982, Accuracy: 9682/10000 (97%)\n",
      "\n"
     ]
    }
   ],
   "source": [
    "# Your implementation should be compatible with the following code\n",
    "test()\n",
    "for epoch in range(1, n_epochs + 1):\n",
    "    train(epoch)\n",
    "    test()"
   ]
  },
  {
   "cell_type": "markdown",
   "metadata": {},
   "source": [
    "##### __(g) We have saved traning statistics in the train_losses/test_losses lists. Plot the training and test accuracy values during training. You can use any plotting library, e.g. matplotlib or seaborn.__"
   ]
  },
  {
   "cell_type": "code",
   "execution_count": 11,
   "metadata": {},
   "outputs": [
    {
     "data": {
      "image/png": "[encoded data removed]",
      "text/plain": [
       "<Figure size 640x480 with 1 Axes>"
      ]
     },
     "metadata": {},
     "output_type": "display_data"
    }
   ],
   "source": [
    "import matplotlib.pyplot as plt\n",
    "\n",
    "plt.plot(train_counter, train_losses, color='blue')\n",
    "plt.scatter(test_counter, test_losses, color='red')\n",
    "plt.legend(['Train Loss', 'Test Loss'], loc='upper right')\n",
    "plt.xlabel('number of training examples seen')\n",
    "plt.ylabel('negative log likelihood loss')\n",
    "plt.show()"
   ]
  },
  {
   "cell_type": "markdown",
   "metadata": {},
   "source": [
    "***Interpret the results***\n",
    "\n",
    "Answer here"
   ]
  },
  {
   "cell_type": "markdown",
   "metadata": {},
   "source": [
    "```\n",
    "Train Loss (Blue Line): As the number of training examples seen increases, the training loss gradually decreases. A decreasing training loss indicates that the model is learning to fit the training data better.\n",
    "\n",
    "Test Loss (Red Dots): The test loss reflects how well the model generalizes to new data, and observing a decreasing or stable test loss is an indication of good generalization.\n",
    "\n",
    "> Both the training and test losses decrease and converge to a stable value, which indicates that the model is learning the patterns in the data without overfitting.\n",
    "```"
   ]
  },
  {
   "cell_type": "markdown",
   "metadata": {},
   "source": [
    "#### Exercise 2: Use all the transformers"
   ]
  },
  {
   "cell_type": "markdown",
   "metadata": {},
   "source": [
    "As we learned in the lecture, nowadays, transformers are the way to go.    \n",
    "Large language models such as GPT2 and GPT3 are currently state-of-the-art for a lot of natural language processing.  \n",
    "Now, we want to look at how hard or easy it is to work with these models.  \n",
    "So, we start with a smaller model, the [GPT2 model](https://cdn.openai.com/better-language-models/language_models_are_unsupervised_multitask_learners.pdf), and use it for some text generation using the hugging face (https://huggingface.co/) [packaging](https://huggingface.co/docs/transformers/model_doc/gpt2)."
   ]
  },
  {
   "cell_type": "markdown",
   "metadata": {},
   "source": [
    "__Please install the `transformers` packages, ideally by following the setup guide: (https://huggingface.co/docs/transformers/installation).__\n"
   ]
  },
  {
   "cell_type": "markdown",
   "metadata": {},
   "source": [
    "##### __a) Load the `gpt2` (https://huggingface.co/gpt2) model from the `transformers` package and generate some follow up to 'Hi, I am a transformer, I can'.__"
   ]
  },
  {
   "cell_type": "code",
   "execution_count": 12,
   "metadata": {},
   "outputs": [
    {
     "data": {
      "application/vnd.jupyter.widget-view+json": {
       "model_id": "af5f9446017f471a87f96d71be5f77d3",
       "version_major": 2,
       "version_minor": 0
      },
      "text/plain": [
       "config.json:   0%|          | 0.00/665 [00:00<?, ?B/s]"
      ]
     },
     "metadata": {},
     "output_type": "display_data"
    },
    {
     "data": {
      "application/vnd.jupyter.widget-view+json": {
       "model_id": "c02f1692491a4ba5935406a06728aa23",
       "version_major": 2,
       "version_minor": 0
      },
      "text/plain": [
       "model.safetensors:   0%|          | 0.00/548M [00:00<?, ?B/s]"
      ]
     },
     "metadata": {},
     "output_type": "display_data"
    },
    {
     "data": {
      "application/vnd.jupyter.widget-view+json": {
       "model_id": "4a23ae8a9ee44a5d9d471c8bf5b7258f",
       "version_major": 2,
       "version_minor": 0
      },
      "text/plain": [
       "generation_config.json:   0%|          | 0.00/124 [00:00<?, ?B/s]"
      ]
     },
     "metadata": {},
     "output_type": "display_data"
    },
    {
     "data": {
      "application/vnd.jupyter.widget-view+json": {
       "model_id": "c5a5caee95444531922ec439f146f0ff",
       "version_major": 2,
       "version_minor": 0
      },
      "text/plain": [
       "vocab.json:   0%|          | 0.00/1.04M [00:00<?, ?B/s]"
      ]
     },
     "metadata": {},
     "output_type": "display_data"
    },
    {
     "data": {
      "application/vnd.jupyter.widget-view+json": {
       "model_id": "e7435da1ebd443609b86f14812817471",
       "version_major": 2,
       "version_minor": 0
      },
      "text/plain": [
       "merges.txt:   0%|          | 0.00/456k [00:00<?, ?B/s]"
      ]
     },
     "metadata": {},
     "output_type": "display_data"
    },
    {
     "data": {
      "application/vnd.jupyter.widget-view+json": {
       "model_id": "a29093c69f6c4a5391f484924807c77b",
       "version_major": 2,
       "version_minor": 0
      },
      "text/plain": [
       "tokenizer.json:   0%|          | 0.00/1.36M [00:00<?, ?B/s]"
      ]
     },
     "metadata": {},
     "output_type": "display_data"
    },
    {
     "name": "stdout",
     "output_type": "stream",
     "text": [
      "Hi, I am a transformer, I can't use a switch, that just isn't practical.\n",
      "\n",
      "Tired of having a few switches, the big guys n\n",
      "eed to be able to just hook it all into one switch. I'm sure there is some benefit there as well, you know you're going \n",
      "to have to do that though. There is actually a nice and fast switch that I use from a time ago that only requires one wi\n",
      "re but it is kind of slow to connect and takes quite\n"
     ]
    }
   ],
   "source": [
    "from transformers import GPT2LMHeadModel, GPT2Tokenizer\n",
    "\n",
    "model_name = 'gpt2'\n",
    "model = GPT2LMHeadModel.from_pretrained(model_name)\n",
    "tokenizer = GPT2Tokenizer.from_pretrained(model_name)\n",
    "\n",
    "input_text = \"Hi, I am a transformer, I can\"\n",
    "\n",
    "input_ids = tokenizer.encode(input_text, return_tensors='pt')\n",
    "attention_mask = torch.ones_like(input_ids)\n",
    "\n",
    "output = model.generate(\n",
    "    input_ids,\n",
    "    max_length=100,\n",
    "    num_return_sequences=1,\n",
    "    no_repeat_ngram_size=2,\n",
    "    top_k=50,\n",
    "    top_p=0.95,\n",
    "    pad_token_id=tokenizer.eos_token_id,  \n",
    "    attention_mask=attention_mask,\n",
    "    do_sample=True\n",
    ")\n",
    "\n",
    "generated_text = tokenizer.decode(output[0], skip_special_tokens=True)\n",
    "\n",
    "max_words_per_line = 120\n",
    "lines = [generated_text[i:i + max_words_per_line] for i in range(0, len(generated_text), max_words_per_line)]\n",
    "for line in lines:\n",
    "    print(line)"
   ]
  },
  {
   "cell_type": "markdown",
   "metadata": {},
   "source": [
    "##### __b) Use your previous code and change the `temperature`. Which changes do you see?__\n",
    "_(Hint: use the `temperature` keyword parameter in the `generator` to achieve this.)_"
   ]
  },
  {
   "cell_type": "code",
   "execution_count": 13,
   "metadata": {},
   "outputs": [
    {
     "name": "stdout",
     "output_type": "stream",
     "text": [
      "Generated text (temperature=0.2):\n",
      "Hi, I am a transformer, I can't be bothered to do anything else. I have a few things to say about it, but I'm not going \n",
      "to go into it.\n",
      "\n",
      "I have been working on this for a while now, and I think it's time to get it out there. It's a very simp\n",
      "le project, with a simple idea, a little bit of a twist. And I've been trying to figure out how to make it work. So, it \n",
      "is a\n",
      "------------------------------------------------------------------------------------------------------------------------\n",
      "Generated text (temperature=0.5):\n",
      "Hi, I am a transformer, I can't stand the heat. I love it!\n",
      "\n",
      "I have a very small, but very good, transformer. It is a lit\n",
      "tle too big, and I have to put it in the back of the car to get it to work.\n",
      "-I can stand it. -I love the sound. The soun\n",
      "d is very nice. You can hear it from a distance, it's very well made. And it is easy to use. If you don\n",
      "------------------------------------------------------------------------------------------------------------------------\n",
      "Generated text (temperature=1.0):\n",
      "Hi, I am a transformer, I can see the energy coming out of it.\" (He looks at me as I look out the window.) The door shut\n",
      ", and we were left in the back seat of the car. On the other side of us was another guy. We were a little shocked. He se\n",
      "emed like a really cool guy, but he was only 24 at the time. \"Hi,\" he said, \"you look pretty cool. Is it okay if you don\n",
      "'t talk to me\n",
      "------------------------------------------------------------------------------------------------------------------------\n",
      "Generated text (temperature=1.5):\n",
      "Hi, I am a transformer, I can create and read power, that was hard work, it just took so many hours but today's day for \n",
      "transformer.\"\n",
      "------------------------------------------------------------------------------------------------------------------------\n"
     ]
    }
   ],
   "source": [
    "temperature_values = [0.2, 0.5, 1.0, 1.5]\n",
    "\n",
    "for temperature in temperature_values:\n",
    "    output = model.generate(\n",
    "        input_ids,\n",
    "        max_length=100,\n",
    "        num_return_sequences=1,\n",
    "        no_repeat_ngram_size=2,\n",
    "        top_k=50,\n",
    "        top_p=0.95,\n",
    "        pad_token_id=tokenizer.eos_token_id,\n",
    "        attention_mask=attention_mask,\n",
    "        temperature=temperature,\n",
    "        do_sample=True\n",
    "    )\n",
    "\n",
    "    generated_text = tokenizer.decode(output[0], skip_special_tokens=True)\n",
    "    print(f\"Generated text (temperature={temperature}):\")\n",
    "    \n",
    "    max_words_per_line = 120\n",
    "    lines = [generated_text[i:i + max_words_per_line] for i in range(0, len(generated_text), max_words_per_line)]\n",
    "    for line in lines:\n",
    "        print(line)\n",
    "        \n",
    "    print(\"-\"*120)"
   ]
  },
  {
   "cell_type": "markdown",
   "metadata": {},
   "source": [
    "```\n",
    "> Low temperature(0.2) produces more focused and detailed text, moderate temperature(0.5) balances creativity and coherence, high temperature(1.0) introduces more randomness and creativity, and very high temperature(1.5) may result in extremely short and abstract outputs.\n",
    "```"
   ]
  },
  {
   "cell_type": "markdown",
   "metadata": {},
   "source": [
    "***<span style=\"color:orange\">Feedback: </span>***\n",
    " - "
   ]
  },
  {
   "cell_type": "markdown",
   "metadata": {},
   "source": [
    "***<span style=\"color:green\">Well done. Grade: Green</span>***"
   ]
  }
 ],
 "metadata": {
  "kernelspec": {
   "display_name": "Python 3 (ipykernel)",
   "language": "python",
   "name": "python3"
  },
  "language_info": {
   "codemirror_mode": {
    "name": "ipython",
    "version": 3
   },
   "file_extension": ".py",
   "mimetype": "text/x-python",
   "name": "python",
   "nbconvert_exporter": "python",
   "pygments_lexer": "ipython3",
   "version": "3.9.13"
  }
 },
 "nbformat": 4,
 "nbformat_minor": 4
}
